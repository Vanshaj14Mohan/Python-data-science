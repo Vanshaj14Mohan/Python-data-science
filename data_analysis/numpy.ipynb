{
 "cells": [
  {
   "cell_type": "code",
   "execution_count": 1,
   "metadata": {},
   "outputs": [],
   "source": [
    "import numpy as np"
   ]
  },
  {
   "cell_type": "markdown",
   "metadata": {},
   "source": [
    "# .creating a 1D numpy array\n"
   ]
  },
  {
   "cell_type": "code",
   "execution_count": 2,
   "metadata": {},
   "outputs": [
    {
     "name": "stdout",
     "output_type": "stream",
     "text": [
      "[1 2 3 4 5] [4 5 6 7 8]\n",
      "<class 'numpy.ndarray'>\n",
      "<class 'numpy.ndarray'>\n"
     ]
    }
   ],
   "source": [
    "a = np.array([1, 2, 3, 4, 5])\n",
    "b = np.array([4, 5, 6, 7, 8])\n",
    "print(a, b)\n",
    "print(type(a))\n",
    "print(type(b))"
   ]
  },
  {
   "cell_type": "code",
   "execution_count": 6,
   "metadata": {},
   "outputs": [
    {
     "name": "stdout",
     "output_type": "stream",
     "text": [
      "[ 5  7  9 11 13]\n",
      "[-3 -3 -3 -3 -3]\n",
      "[ 4 10 18 28 40]\n"
     ]
    }
   ],
   "source": [
    "print(a + b)\n",
    "print(a- b)\n",
    "print(a * b)"
   ]
  },
  {
   "cell_type": "markdown",
   "metadata": {},
   "source": [
    "# . Creating 2D matrix\n",
    "matrix syntax- np.array([[], [], []]) -> 3 row matrix\n",
    "\n",
    "->np.array([[1,2], [3,4], [5,6]])-> 3x2 matrix"
   ]
  },
  {
   "cell_type": "code",
   "execution_count": 6,
   "metadata": {},
   "outputs": [
    {
     "name": "stdout",
     "output_type": "stream",
     "text": [
      "[[1 2]\n",
      " [2 3]]\n",
      "(2, 2)\n",
      "2\n",
      "int32\n"
     ]
    }
   ],
   "source": [
    "n2 = np.array([[1,2], [2,3]])\n",
    "print(n2)\n",
    "print(n2.shape) #no of rows and columns\n",
    "print(n2.ndim) #no of dimensions\n",
    "print(n2.dtype) #data type of the elements"
   ]
  },
  {
   "cell_type": "code",
   "execution_count": 9,
   "metadata": {},
   "outputs": [
    {
     "data": {
      "text/plain": [
       "array([ 1,  6, 11, 16, 21, 26, 31, 36, 41, 46, 51, 56, 61, 66, 71, 76, 81,\n",
       "       86, 91, 96])"
      ]
     },
     "execution_count": 9,
     "metadata": {},
     "output_type": "execute_result"
    }
   ],
   "source": [
    "#1 a matrix of number from 1 t 100  with gap of 5\n",
    "np.arange(1, 100, 5) #start, ending, gap"
   ]
  },
  {
   "cell_type": "code",
   "execution_count": 7,
   "metadata": {},
   "outputs": [
    {
     "data": {
      "text/plain": [
       "array([ 1.   ,  1.375,  1.75 ,  2.125,  2.5  ,  2.875,  3.25 ,  3.625,\n",
       "        4.   ,  4.375,  4.75 ,  5.125,  5.5  ,  5.875,  6.25 ,  6.625,\n",
       "        7.   ,  7.375,  7.75 ,  8.125,  8.5  ,  8.875,  9.25 ,  9.625,\n",
       "       10.   ])"
      ]
     },
     "execution_count": 7,
     "metadata": {},
     "output_type": "execute_result"
    }
   ],
   "source": [
    "#2 a matrix of numbers from 1 to 10 with 25 elements\n",
    "np.linspace(1, 10, 25)"
   ]
  },
  {
   "cell_type": "code",
   "execution_count": 12,
   "metadata": {},
   "outputs": [
    {
     "data": {
      "text/plain": [
       "array([[1, 4, 3],\n",
       "       [7, 7, 1]])"
      ]
     },
     "execution_count": 12,
     "metadata": {},
     "output_type": "execute_result"
    }
   ],
   "source": [
    "#3 a matrix of random numbers from 1 to 10 and shape 2x3\n",
    "np.random.randint(1,10, size=(2,3))"
   ]
  },
  {
   "cell_type": "code",
   "execution_count": 14,
   "metadata": {},
   "outputs": [],
   "source": [
    "# (optional) set numeric precision (decimal places)\n",
    "np.set_printoptions(precision = 2)"
   ]
  },
  {
   "cell_type": "code",
   "execution_count": 15,
   "metadata": {},
   "outputs": [
    {
     "data": {
      "text/plain": [
       "array([[0.74, 0.05, 0.24],\n",
       "       [0.84, 0.28, 0.41],\n",
       "       [0.32, 0.36, 0.31]])"
      ]
     },
     "execution_count": 15,
     "metadata": {},
     "output_type": "execute_result"
    }
   ],
   "source": [
    "#5 matrix of uniformaly distributed random numbers with shape 3x3\n",
    "np.random.uniform(size=(3,3))"
   ]
  },
  {
   "cell_type": "markdown",
   "metadata": {},
   "source": [
    "# Operation and methods"
   ]
  },
  {
   "cell_type": "code",
   "execution_count": 4,
   "metadata": {},
   "outputs": [
    {
     "name": "stdout",
     "output_type": "stream",
     "text": [
      "[[7 2 3]\n",
      " [2 5 2]\n",
      " [3 5 1]]\n",
      "[[1 2 3]\n",
      " [4 5 6]\n",
      " [7 8 9]]\n"
     ]
    }
   ],
   "source": [
    "x = np.array([\n",
    "    [7,2,3],\n",
    "    [2,5,2],\n",
    "    [3,5,1],    \n",
    "])\n",
    "\n",
    "y = np.array([\n",
    "    [1,2,3],\n",
    "    [4,5,6],\n",
    "    [7,8,9],\n",
    "])\n",
    "\n",
    "print(x)\n",
    "print(y)"
   ]
  },
  {
   "cell_type": "code",
   "execution_count": 6,
   "metadata": {},
   "outputs": [
    {
     "name": "stdout",
     "output_type": "stream",
     "text": [
      "[[ 8  4  6]\n",
      " [ 6 10  8]\n",
      " [10 13 10]]\n",
      "----------\n",
      "[[ 6  0  0]\n",
      " [-2  0 -4]\n",
      " [-4 -3 -8]]\n"
     ]
    }
   ],
   "source": [
    "print(x+y)\n",
    "print(\"--\"*5)\n",
    "print(x-y)"
   ]
  },
  {
   "cell_type": "code",
   "execution_count": 7,
   "metadata": {},
   "outputs": [
    {
     "name": "stdout",
     "output_type": "stream",
     "text": [
      "[[ 7  4  9]\n",
      " [ 8 25 12]\n",
      " [21 40  9]]\n"
     ]
    }
   ],
   "source": [
    "#element wise multiplication\n",
    "print(x * y)"
   ]
  },
  {
   "cell_type": "code",
   "execution_count": 8,
   "metadata": {},
   "outputs": [
    {
     "name": "stdout",
     "output_type": "stream",
     "text": [
      "[[36 48 60]\n",
      " [36 45 54]\n",
      " [30 39 48]]\n"
     ]
    }
   ],
   "source": [
    "#matrix multiplication\n",
    "print( x @ y) #or np.dot(x, y)"
   ]
  },
  {
   "cell_type": "code",
   "execution_count": 9,
   "metadata": {},
   "outputs": [
    {
     "name": "stdout",
     "output_type": "stream",
     "text": [
      "[[7.         1.         1.        ]\n",
      " [0.5        1.         0.33333333]\n",
      " [0.42857143 0.625      0.11111111]]\n"
     ]
    }
   ],
   "source": [
    "#for divide\n",
    "print(x / y)"
   ]
  },
  {
   "cell_type": "code",
   "execution_count": 13,
   "metadata": {},
   "outputs": [
    {
     "data": {
      "text/plain": [
       "12600"
      ]
     },
     "execution_count": 13,
     "metadata": {},
     "output_type": "execute_result"
    }
   ],
   "source": [
    "#product of all elements\n",
    "x.prod() #for x-> 7*2*3*2*5*2*3*5*1"
   ]
  },
  {
   "cell_type": "code",
   "execution_count": 14,
   "metadata": {},
   "outputs": [
    {
     "data": {
      "text/plain": [
       "362880"
      ]
     },
     "execution_count": 14,
     "metadata": {},
     "output_type": "execute_result"
    }
   ],
   "source": [
    "#for y-> 1*2*3*4*5*6*7*8*9\n",
    "y.prod()"
   ]
  },
  {
   "cell_type": "code",
   "execution_count": 4,
   "metadata": {},
   "outputs": [
    {
     "data": {
      "text/plain": [
       "3.3333333333333335"
      ]
     },
     "execution_count": 4,
     "metadata": {},
     "output_type": "execute_result"
    }
   ],
   "source": [
    "x.mean() #mean of all elements"
   ]
  },
  {
   "cell_type": "code",
   "execution_count": 6,
   "metadata": {},
   "outputs": [
    {
     "data": {
      "text/plain": [
       "array([4., 4., 2.])"
      ]
     },
     "execution_count": 6,
     "metadata": {},
     "output_type": "execute_result"
    }
   ],
   "source": [
    "x.mean(axis=0) #mean of each column"
   ]
  },
  {
   "cell_type": "code",
   "execution_count": 15,
   "metadata": {},
   "outputs": [
    {
     "data": {
      "text/plain": [
       "array([4., 3., 3.])"
      ]
     },
     "execution_count": 15,
     "metadata": {},
     "output_type": "execute_result"
    }
   ],
   "source": [
    "x.mean(axis=1) #mean of each row"
   ]
  },
  {
   "cell_type": "code",
   "execution_count": 5,
   "metadata": {},
   "outputs": [
    {
     "data": {
      "text/plain": [
       "5.0"
      ]
     },
     "execution_count": 5,
     "metadata": {},
     "output_type": "execute_result"
    }
   ],
   "source": [
    "y.mean() #mean of all elements"
   ]
  },
  {
   "cell_type": "code",
   "execution_count": 6,
   "metadata": {},
   "outputs": [
    {
     "data": {
      "text/plain": [
       "array([4., 5., 6.])"
      ]
     },
     "execution_count": 6,
     "metadata": {},
     "output_type": "execute_result"
    }
   ],
   "source": [
    "y.mean(axis=0) #mean for each column"
   ]
  },
  {
   "cell_type": "code",
   "execution_count": 7,
   "metadata": {},
   "outputs": [
    {
     "data": {
      "text/plain": [
       "array([2., 5., 8.])"
      ]
     },
     "execution_count": 7,
     "metadata": {},
     "output_type": "execute_result"
    }
   ],
   "source": [
    "y.mean(axis=1) #mean for each row"
   ]
  },
  {
   "cell_type": "markdown",
   "metadata": {},
   "source": [
    "# For finding min & max values in row & column."
   ]
  },
  {
   "cell_type": "code",
   "execution_count": 10,
   "metadata": {},
   "outputs": [
    {
     "name": "stdout",
     "output_type": "stream",
     "text": [
      "for x\n",
      "1\n",
      "7\n",
      "for x column\n",
      "[2 2 1]\n",
      "[7 5 3]\n",
      "for x row\n",
      "[2 2 1]\n",
      "[7 5 5]\n",
      "for y\n",
      "1\n",
      "9\n",
      "for y column\n",
      "[2 2 1]\n",
      "[7 5 3]\n",
      "for y rows\n",
      "[1 4 7]\n",
      "[3 6 9]\n"
     ]
    }
   ],
   "source": [
    "print(\"for x\")\n",
    "print(x.min())\n",
    "print(x.max())\n",
    "print(\"for x column\")\n",
    "print(x.min(axis=0)) #min of each column\n",
    "print(x.max(axis=0)) #max of each column\n",
    "print(\"for x row\")\n",
    "print(x.min(axis=1)) #min of each row\n",
    "print(x.max(axis=1)) #max of each row\n",
    "print(\"for y\")\n",
    "print(y.min())\n",
    "print(y.max())\n",
    "print(\"for y column\")\n",
    "print(x.min(axis=0)) #min of each column\n",
    "print(x.max(axis=0)) #max of each column\n",
    "print(\"for y rows\")\n",
    "print(y.min(axis=1)) #min for each row\n",
    "print(y.max(axis=1)) #max for each row"
   ]
  },
  {
   "cell_type": "code",
   "execution_count": 22,
   "metadata": {},
   "outputs": [
    {
     "name": "stdout",
     "output_type": "stream",
     "text": [
      "30\n",
      "1.8257418583505538\n",
      "3.3333333333333335\n",
      "3.0\n",
      "3.0\n",
      "2.0\n",
      "5.0\n",
      "[1 2 3 5 7]\n"
     ]
    }
   ],
   "source": [
    "print(x.sum()) #for sum\n",
    "print(x.std()) #for standard deviation\n",
    "print(x.var()) #for variance\n",
    "print(np.median(x))\n",
    "print(np.percentile(x, 50)) #median\n",
    "print(np.percentile(x, 25)) #1st quartile\n",
    "print(np.percentile(x, 75)) #3rd quartile\n",
    "print(np.unique(x)) #unique elements"
   ]
  },
  {
   "cell_type": "code",
   "execution_count": 27,
   "metadata": {},
   "outputs": [
    {
     "name": "stdout",
     "output_type": "stream",
     "text": [
      "[[86 79 86 43]\n",
      " [76 57 90 20]\n",
      " [76 79 75 84]\n",
      " [55 86 53 30]]\n",
      "2x8\n",
      "[[86 79 86 43 76 57 90 20]\n",
      " [76 79 75 84 55 86 53 30]]\n",
      "8x2\n",
      "[[86 79]\n",
      " [86 43]\n",
      " [76 57]\n",
      " [90 20]\n",
      " [76 79]\n",
      " [75 84]\n",
      " [55 86]\n",
      " [53 30]]\n",
      "16x1\n",
      "[[86]\n",
      " [79]\n",
      " [86]\n",
      " [43]\n",
      " [76]\n",
      " [57]\n",
      " [90]\n",
      " [20]\n",
      " [76]\n",
      " [79]\n",
      " [75]\n",
      " [84]\n",
      " [55]\n",
      " [86]\n",
      " [53]\n",
      " [30]]\n",
      "1x16\n",
      "[[86 79 86 43 76 57 90 20 76 79 75 84 55 86 53 30]]\n",
      "2x2x4\n",
      "[[[86 79 86 43]\n",
      "  [76 57 90 20]]\n",
      "\n",
      " [[76 79 75 84]\n",
      "  [55 86 53 30]]]\n"
     ]
    }
   ],
   "source": [
    "#Reshaping the array\n",
    "a =np.random.randint(11, 100, (4,4))\n",
    "print(a)\n",
    "print(\"2x8\")\n",
    "print(a.reshape(2,8)) #2 rows and 8 columns\n",
    "print(\"8x2\")\n",
    "print(a.reshape(8,2)) # 8 rows and 2 columns\n",
    "print(\"16x1\")\n",
    "print(a.reshape(16,1)) #16 rows and 1 column\n",
    "print(\"1x16\")\n",
    "print(a.reshape(1,16)) #1 row and 16 column\n",
    "print(\"2x2x4\")\n",
    "print(a.reshape(2,2,4)) #2 rows, 2 columns and 4 depth"
   ]
  },
  {
   "cell_type": "code",
   "execution_count": 28,
   "metadata": {},
   "outputs": [
    {
     "name": "stdout",
     "output_type": "stream",
     "text": [
      "flatten\n",
      "[86 79 86 43 76 57 90 20 76 79 75 84 55 86 53 30]\n",
      "[86 79 86 43 76 57 90 20 76 79 75 84 55 86 53 30]\n"
     ]
    }
   ],
   "source": [
    "print(\"flatten\")\n",
    "print(a.flatten()) #1D array\n",
    "print(a.ravel()) #1D array\n"
   ]
  },
  {
   "cell_type": "markdown",
   "metadata": {},
   "source": [
    "# Slicing in 1D array\n",
    "\n",
    "# x[start: stop: step]\n",
    "\n",
    "# Slicing in 2d array\n",
    "#  x[start:stop:step, start:stop:step]"
   ]
  },
  {
   "cell_type": "code",
   "execution_count": 4,
   "metadata": {},
   "outputs": [
    {
     "name": "stdout",
     "output_type": "stream",
     "text": [
      "[[6 8 9 8 2]\n",
      " [2 6 4 2 5]\n",
      " [8 2 3 9 1]\n",
      " [1 3 1 5 7]\n",
      " [7 6 2 4 6]]\n"
     ]
    }
   ],
   "source": [
    "x = np.random.randint(1, 10, (5,5))\n",
    "print(x)"
   ]
  },
  {
   "cell_type": "code",
   "execution_count": 10,
   "metadata": {},
   "outputs": [
    {
     "name": "stdout",
     "output_type": "stream",
     "text": [
      "1st row\n",
      "[6 8 9 8 2]\n",
      "1st row, 3 element\n",
      "[6 8 9]\n",
      "1st row , last 3 element\n",
      "[9 8 2]\n",
      "1st column\n",
      "[6 2 8 1 7]\n",
      "1st column, 3 element\n",
      "[6 2 8]\n",
      "1st column last 3 element\n",
      "[8 1 7]\n",
      "last 2 columns\n",
      "[[8 2]\n",
      " [2 5]\n",
      " [9 1]\n",
      " [5 7]\n",
      " [4 6]]\n"
     ]
    }
   ],
   "source": [
    "print(\"1st row\")\n",
    "print(x[0])\n",
    "print(\"1st row, 3 element\")\n",
    "print(x[0, :3])\n",
    "print(\"1st row , last 3 element\")\n",
    "print(x[0, -3:])\n",
    "print(\"1st column\")\n",
    "print(x[:, 0]) #:-> represent one full row of a column\n",
    "print(\"1st column, 3 element\")\n",
    "print(x[:3, 0])\n",
    "print(\"1st column last 3 element\")\n",
    "print(x[-3:, 0])\n",
    "print(\"last 2 columns\")\n",
    "print(x[:, -2:])"
   ]
  },
  {
   "cell_type": "markdown",
   "metadata": {},
   "source": [
    "# Visualization"
   ]
  },
  {
   "cell_type": "code",
   "execution_count": 17,
   "metadata": {},
   "outputs": [],
   "source": [
    "import matplotlib.pyplot as plt"
   ]
  },
  {
   "cell_type": "code",
   "execution_count": 9,
   "metadata": {},
   "outputs": [
    {
     "name": "stdout",
     "output_type": "stream",
     "text": [
      "[ 0.          0.1010101   0.2020202   0.3030303   0.4040404   0.50505051\n",
      "  0.60606061  0.70707071  0.80808081  0.90909091  1.01010101  1.11111111\n",
      "  1.21212121  1.31313131  1.41414141  1.51515152  1.61616162  1.71717172\n",
      "  1.81818182  1.91919192  2.02020202  2.12121212  2.22222222  2.32323232\n",
      "  2.42424242  2.52525253  2.62626263  2.72727273  2.82828283  2.92929293\n",
      "  3.03030303  3.13131313  3.23232323  3.33333333  3.43434343  3.53535354\n",
      "  3.63636364  3.73737374  3.83838384  3.93939394  4.04040404  4.14141414\n",
      "  4.24242424  4.34343434  4.44444444  4.54545455  4.64646465  4.74747475\n",
      "  4.84848485  4.94949495  5.05050505  5.15151515  5.25252525  5.35353535\n",
      "  5.45454545  5.55555556  5.65656566  5.75757576  5.85858586  5.95959596\n",
      "  6.06060606  6.16161616  6.26262626  6.36363636  6.46464646  6.56565657\n",
      "  6.66666667  6.76767677  6.86868687  6.96969697  7.07070707  7.17171717\n",
      "  7.27272727  7.37373737  7.47474747  7.57575758  7.67676768  7.77777778\n",
      "  7.87878788  7.97979798  8.08080808  8.18181818  8.28282828  8.38383838\n",
      "  8.48484848  8.58585859  8.68686869  8.78787879  8.88888889  8.98989899\n",
      "  9.09090909  9.19191919  9.29292929  9.39393939  9.49494949  9.5959596\n",
      "  9.6969697   9.7979798   9.8989899  10.        ] [ 0.          0.10083842  0.20064886  0.2984138   0.39313661  0.48385164\n",
      "  0.56963411  0.64960951  0.72296256  0.78894546  0.84688556  0.8961922\n",
      "  0.93636273  0.96698762  0.98775469  0.99845223  0.99897117  0.98930624\n",
      "  0.96955595  0.93992165  0.90070545  0.85230712  0.79522006  0.73002623\n",
      "  0.65739025  0.57805259  0.49282204  0.40256749  0.30820902  0.21070855\n",
      "  0.11106004  0.01027934 -0.09060615 -0.19056796 -0.28858706 -0.38366419\n",
      " -0.47483011 -0.56115544 -0.64176014 -0.7158225  -0.7825875  -0.84137452\n",
      " -0.89158426 -0.93270486 -0.96431712 -0.98609877 -0.99782778 -0.99938456\n",
      " -0.99075324 -0.97202182 -0.94338126 -0.90512352 -0.85763861 -0.80141062\n",
      " -0.73701276 -0.66510151 -0.58640998 -0.50174037 -0.41195583 -0.31797166\n",
      " -0.22074597 -0.12126992 -0.0205576   0.0803643   0.18046693  0.27872982\n",
      "  0.37415123  0.46575841  0.55261747  0.63384295  0.7086068   0.77614685\n",
      "  0.83577457  0.8868821   0.92894843  0.96154471  0.98433866  0.99709789\n",
      "  0.99969234  0.99209556  0.97438499  0.94674118  0.90944594  0.86287948\n",
      "  0.8075165   0.74392141  0.6727425   0.59470541  0.51060568  0.42130064\n",
      "  0.32770071  0.23076008  0.13146699  0.03083368 -0.07011396 -0.17034683\n",
      " -0.26884313 -0.36459873 -0.45663749 -0.54402111] [ 1.          0.99490282  0.97966323  0.95443659  0.91948007  0.87515004\n",
      "  0.8218984   0.76026803  0.69088721  0.61446323  0.53177518  0.44366602\n",
      "  0.35103397  0.25482335  0.15601496  0.0556161  -0.04534973 -0.14585325\n",
      " -0.24486989 -0.34139023 -0.43443032 -0.52304166 -0.60632092 -0.68341913\n",
      " -0.75355031 -0.81599952 -0.87013012 -0.91539031 -0.95131866 -0.97754893\n",
      " -0.9938137  -0.99994717 -0.9958868  -0.981674   -0.95745366 -0.92347268\n",
      " -0.88007748 -0.82771044 -0.76690542 -0.69828229 -0.6225406  -0.54045251\n",
      " -0.45285485 -0.36064061 -0.26474988 -0.16616018 -0.06587659  0.03507857\n",
      "  0.13567613  0.23489055  0.33171042  0.4251487   0.51425287  0.59811455\n",
      "  0.67587883  0.74675295  0.8100144   0.86501827  0.91120382  0.94810022\n",
      "  0.97533134  0.99261957  0.99978867  0.99676556  0.98358105  0.96036956\n",
      "  0.9273677   0.88491192  0.83343502  0.77346177  0.70560358  0.63055219\n",
      "  0.54907273  0.46199582  0.37020915  0.27464844  0.17628785  0.07613012\n",
      " -0.0248037  -0.12548467 -0.2248864  -0.32199555 -0.41582217 -0.50540974\n",
      " -0.58984498 -0.66826712 -0.7398767  -0.8039437  -0.859815   -0.90692104\n",
      " -0.94478159 -0.97301068 -0.99132055 -0.99952453 -0.99753899 -0.98538417\n",
      " -0.96318398 -0.93116473 -0.88965286 -0.83907153]\n"
     ]
    },
    {
     "data": {
      "text/plain": [
       "[<matplotlib.lines.Line2D at 0x228f807b710>]"
      ]
     },
     "execution_count": 9,
     "metadata": {},
     "output_type": "execute_result"
    },
    {
     "data": {
      "image/png": "[encoded data removed]",
      "text/plain": [
       "<Figure size 640x480 with 1 Axes>"
      ]
     },
     "metadata": {},
     "output_type": "display_data"
    }
   ],
   "source": [
    "x = np.linspace(0, 10, 100)\n",
    "y = np.sin(x)\n",
    "z = np.cos(x)\n",
    "print(x, y, z)\n",
    "plt.plot(x,y)\n",
    "plt.plot(x,z)"
   ]
  },
  {
   "cell_type": "code",
   "execution_count": 22,
   "metadata": {},
   "outputs": [
    {
     "name": "stdout",
     "output_type": "stream",
     "text": [
      "[ 0.          0.1010101   0.2020202   0.3030303   0.4040404   0.50505051\n",
      "  0.60606061  0.70707071  0.80808081  0.90909091  1.01010101  1.11111111\n",
      "  1.21212121  1.31313131  1.41414141  1.51515152  1.61616162  1.71717172\n",
      "  1.81818182  1.91919192  2.02020202  2.12121212  2.22222222  2.32323232\n",
      "  2.42424242  2.52525253  2.62626263  2.72727273  2.82828283  2.92929293\n",
      "  3.03030303  3.13131313  3.23232323  3.33333333  3.43434343  3.53535354\n",
      "  3.63636364  3.73737374  3.83838384  3.93939394  4.04040404  4.14141414\n",
      "  4.24242424  4.34343434  4.44444444  4.54545455  4.64646465  4.74747475\n",
      "  4.84848485  4.94949495  5.05050505  5.15151515  5.25252525  5.35353535\n",
      "  5.45454545  5.55555556  5.65656566  5.75757576  5.85858586  5.95959596\n",
      "  6.06060606  6.16161616  6.26262626  6.36363636  6.46464646  6.56565657\n",
      "  6.66666667  6.76767677  6.86868687  6.96969697  7.07070707  7.17171717\n",
      "  7.27272727  7.37373737  7.47474747  7.57575758  7.67676768  7.77777778\n",
      "  7.87878788  7.97979798  8.08080808  8.18181818  8.28282828  8.38383838\n",
      "  8.48484848  8.58585859  8.68686869  8.78787879  8.88888889  8.98989899\n",
      "  9.09090909  9.19191919  9.29292929  9.39393939  9.49494949  9.5959596\n",
      "  9.6969697   9.7979798   9.8989899  10.        ] [ 1.          0.99490282  0.97966323  0.95443659  0.91948007  0.87515004\n",
      "  0.8218984   0.76026803  0.69088721  0.61446323  0.53177518  0.44366602\n",
      "  0.35103397  0.25482335  0.15601496  0.0556161  -0.04534973 -0.14585325\n",
      " -0.24486989 -0.34139023 -0.43443032 -0.52304166 -0.60632092 -0.68341913\n",
      " -0.75355031 -0.81599952 -0.87013012 -0.91539031 -0.95131866 -0.97754893\n",
      " -0.9938137  -0.99994717 -0.9958868  -0.981674   -0.95745366 -0.92347268\n",
      " -0.88007748 -0.82771044 -0.76690542 -0.69828229 -0.6225406  -0.54045251\n",
      " -0.45285485 -0.36064061 -0.26474988 -0.16616018 -0.06587659  0.03507857\n",
      "  0.13567613  0.23489055  0.33171042  0.4251487   0.51425287  0.59811455\n",
      "  0.67587883  0.74675295  0.8100144   0.86501827  0.91120382  0.94810022\n",
      "  0.97533134  0.99261957  0.99978867  0.99676556  0.98358105  0.96036956\n",
      "  0.9273677   0.88491192  0.83343502  0.77346177  0.70560358  0.63055219\n",
      "  0.54907273  0.46199582  0.37020915  0.27464844  0.17628785  0.07613012\n",
      " -0.0248037  -0.12548467 -0.2248864  -0.32199555 -0.41582217 -0.50540974\n",
      " -0.58984498 -0.66826712 -0.7398767  -0.8039437  -0.859815   -0.90692104\n",
      " -0.94478159 -0.97301068 -0.99132055 -0.99952453 -0.99753899 -0.98538417\n",
      " -0.96318398 -0.93116473 -0.88965286 -0.83907153] [ 0.          0.10083842  0.20064886  0.2984138   0.39313661  0.48385164\n",
      "  0.56963411  0.64960951  0.72296256  0.78894546  0.84688556  0.8961922\n",
      "  0.93636273  0.96698762  0.98775469  0.99845223  0.99897117  0.98930624\n",
      "  0.96955595  0.93992165  0.90070545  0.85230712  0.79522006  0.73002623\n",
      "  0.65739025  0.57805259  0.49282204  0.40256749  0.30820902  0.21070855\n",
      "  0.11106004  0.01027934 -0.09060615 -0.19056796 -0.28858706 -0.38366419\n",
      " -0.47483011 -0.56115544 -0.64176014 -0.7158225  -0.7825875  -0.84137452\n",
      " -0.89158426 -0.93270486 -0.96431712 -0.98609877 -0.99782778 -0.99938456\n",
      " -0.99075324 -0.97202182 -0.94338126 -0.90512352 -0.85763861 -0.80141062\n",
      " -0.73701276 -0.66510151 -0.58640998 -0.50174037 -0.41195583 -0.31797166\n",
      " -0.22074597 -0.12126992 -0.0205576   0.0803643   0.18046693  0.27872982\n",
      "  0.37415123  0.46575841  0.55261747  0.63384295  0.7086068   0.77614685\n",
      "  0.83577457  0.8868821   0.92894843  0.96154471  0.98433866  0.99709789\n",
      "  0.99969234  0.99209556  0.97438499  0.94674118  0.90944594  0.86287948\n",
      "  0.8075165   0.74392141  0.6727425   0.59470541  0.51060568  0.42130064\n",
      "  0.32770071  0.23076008  0.13146699  0.03083368 -0.07011396 -0.17034683\n",
      " -0.26884313 -0.36459873 -0.45663749 -0.54402111]\n"
     ]
    },
    {
     "data": {
      "text/plain": [
       "[<matplotlib.lines.Line2D at 0x25d0f29e870>]"
      ]
     },
     "execution_count": 22,
     "metadata": {},
     "output_type": "execute_result"
    },
    {
     "data": {
      "image/png": "[encoded data removed]",
      "text/plain": [
       "<Figure size 640x480 with 1 Axes>"
      ]
     },
     "metadata": {},
     "output_type": "display_data"
    }
   ],
   "source": [
    "#For cos and sin graph\n",
    "x = np.linspace(0, 10, 100)\n",
    "y = np.cos(x)\n",
    "z = np.sin(x)\n",
    "print(x,y,z)\n",
    "plt.plot(x,y)\n",
    "plt.plot(x,z)"
   ]
  },
  {
   "cell_type": "markdown",
   "metadata": {},
   "source": [
    "# Exercises"
   ]
  },
  {
   "cell_type": "markdown",
   "metadata": {},
   "source": [
    "# 1. Numpy program to create an array of 10 zeros."
   ]
  },
  {
   "cell_type": "code",
   "execution_count": 9,
   "metadata": {},
   "outputs": [
    {
     "name": "stdout",
     "output_type": "stream",
     "text": [
      "[0. 0. 0. 0. 0. 0. 0. 0. 0. 0.]\n"
     ]
    }
   ],
   "source": [
    "zeros = np.zeros(10)\n",
    "print(zeros)"
   ]
  },
  {
   "cell_type": "markdown",
   "metadata": {},
   "source": [
    "# 2. Numpy program to create an array of 10 ones."
   ]
  },
  {
   "cell_type": "code",
   "execution_count": 10,
   "metadata": {},
   "outputs": [
    {
     "name": "stdout",
     "output_type": "stream",
     "text": [
      "[1. 1. 1. 1. 1. 1. 1. 1. 1. 1.]\n"
     ]
    }
   ],
   "source": [
    "ones = np.ones(10)\n",
    "print(ones)"
   ]
  },
  {
   "cell_type": "markdown",
   "metadata": {},
   "source": [
    "# 3. Numpy program to multiply two given matrices."
   ]
  },
  {
   "cell_type": "code",
   "execution_count": 7,
   "metadata": {},
   "outputs": [
    {
     "name": "stdout",
     "output_type": "stream",
     "text": [
      "[ 2 12 30 56 90]\n"
     ]
    }
   ],
   "source": [
    "a = np.array([2, 4, 6, 8, 10]) \n",
    "b= np.array([1, 3, 5, 7, 9,])\n",
    "print(a * b)"
   ]
  },
  {
   "cell_type": "markdown",
   "metadata": {},
   "source": [
    "# 4. Numpy program to create a 3x3 matrix with values ranging from 0 to 8."
   ]
  },
  {
   "cell_type": "code",
   "execution_count": 3,
   "metadata": {},
   "outputs": [
    {
     "name": "stdout",
     "output_type": "stream",
     "text": [
      "[[0 1 2]\n",
      " [3 4 5]\n",
      " [6 7 8]]\n"
     ]
    }
   ],
   "source": [
    "a = np.arange(9).reshape(3, 3)\n",
    "print(a)"
   ]
  },
  {
   "cell_type": "markdown",
   "metadata": {},
   "source": [
    "# 5. Numpy program to compute sum of all elements, mean, standard deviation of a given array."
   ]
  },
  {
   "cell_type": "code",
   "execution_count": 28,
   "metadata": {},
   "outputs": [
    {
     "name": "stdout",
     "output_type": "stream",
     "text": [
      "[ 2  4  6  8 10]\n",
      "for sum\n",
      "30\n",
      "2.8284271247461903\n"
     ]
    }
   ],
   "source": [
    "x= np.array([2, 4, 6, 8, 10]) \n",
    "print(x)\n",
    "print(\"for sum\")\n",
    "print(x.sum())\n",
    "print(x.std())"
   ]
  },
  {
   "cell_type": "markdown",
   "metadata": {},
   "source": [
    "# 6. Numpy program to create a 5x5 matrix with random values and find maximum & minimum values."
   ]
  },
  {
   "cell_type": "code",
   "execution_count": 31,
   "metadata": {},
   "outputs": [
    {
     "name": "stdout",
     "output_type": "stream",
     "text": [
      "[[9 0 2 3 7]\n",
      " [0 1 3 0 9]\n",
      " [8 2 5 3 6]\n",
      " [0 5 7 5 9]\n",
      " [6 8 2 0 3]]\n",
      "for minimum values\n",
      "0\n",
      "for maximum values\n",
      "9\n"
     ]
    }
   ],
   "source": [
    "x = np.random.randint(0,10, (5,5))\n",
    "print(x)\n",
    "print(\"for minimum values\")\n",
    "print(x.min())\n",
    "print(\"for maximum values\")\n",
    "print(x.max())"
   ]
  },
  {
   "cell_type": "code",
   "execution_count": null,
   "metadata": {},
   "outputs": [],
   "source": []
  }
 ],
 "metadata": {
  "kernelspec": {
   "display_name": "Python 3",
   "language": "python",
   "name": "python3"
  },
  "language_info": {
   "codemirror_mode": {
    "name": "ipython",
    "version": 3
   },
   "file_extension": ".py",
   "mimetype": "text/x-python",
   "name": "python",
   "nbconvert_exporter": "python",
   "pygments_lexer": "ipython3",
   "version": "3.12.0"
  }
 },
 "nbformat": 4,
 "nbformat_minor": 2
}
