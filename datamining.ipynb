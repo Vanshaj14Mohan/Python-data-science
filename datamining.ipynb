{
 "cells": [
  {
   "cell_type": "code",
   "execution_count": null,
   "metadata": {},
   "outputs": [],
   "source": [
    "#first install a library\n",
    "#pip install dputils, used for -> file coversion & data mining."
   ]
  },
  {
   "cell_type": "markdown",
   "metadata": {},
   "source": [
    "#### Copy url first "
   ]
  },
  {
   "cell_type": "code",
   "execution_count": 1,
   "metadata": {},
   "outputs": [],
   "source": [
    "url =\"https://www.amazon.in/POCO-C55-Cool-Blue-128/dp/B0BX9WNP7W/?_encoding=UTF8&_encoding=UTF8&ref_=dlx_gate_sd_dcl_tlt_88cdcaa6_dt_pd_gw_unk&pd_rd_w=GPBGA&content-id=amzn1.sym.9e4ae409-2145-4395-aa6e-45d7f3e95c3e&pf_rd_p=9e4ae409-2145-4395-aa6e-45d7f3e95c3e&pf_rd_r=ZSGZSXJSZDBBZWCDV5H8&pd_rd_wg=Ml1aa&pd_rd_r=e5293e7a-394c-4b04-ba62-0b7a5e30aa12\""
   ]
  },
  {
   "cell_type": "code",
   "execution_count": 3,
   "metadata": {},
   "outputs": [],
   "source": [
    "from dputils.scrape import Scraper, Tag"
   ]
  },
  {
   "cell_type": "code",
   "execution_count": 9,
   "metadata": {},
   "outputs": [],
   "source": [
    "#variable for tag class\n",
    "title = Tag(\"span\", id=\"productTitle\")\n",
    "price = Tag(\"span\", cls=\"a-price-whole\")\n",
    "review_count = Tag(\"span\", id=\"acrCustomerReviewText\")\n",
    "features = Tag(id=\"feature-bullets\")"
   ]
  },
  {
   "cell_type": "markdown",
   "metadata": {},
   "source": [
    "## Creating Scraper\n"
   ]
  },
  {
   "cell_type": "code",
   "execution_count": 5,
   "metadata": {},
   "outputs": [
    {
     "name": "stdout",
     "output_type": "stream",
     "text": [
      "Selecting a random User-Agent...\n",
      "Randomly picked browser: Firefox\n",
      "Randomly picked operating system: Windows\n",
      "🌐🌐🌐🌐🌐🌐🌐🌐🌐🌐\n",
      "User agent:  {'User-Agent': 'Mozilla/5.0 (Windows NT 10.0; Win64; x64; rv:94.0) Gecko/20100101 Firefox/94.0'}\n",
      "Cookies:  {'session-id': '', 'session-id-time': '', 'session-token': ''}\n",
      "url:  https://www.amazon.in/POCO-C55-Cool-Blue-128/dp/B0BX9WNP7W/?_encoding=UTF8&_encoding=UTF8&ref_=dlx_gate_sd_dcl_tlt_88cdcaa6_dt_pd_gw_unk&pd_rd_w=GPBGA&content-id=amzn1.sym.9e4ae409-2145-4395-aa6e-45d7f3e95c3e&pf_rd_p=9e4ae409-2145-4395-aa6e-45d7f3e95c3e&pf_rd_r=ZSGZSXJSZDBBZWCDV5H8&pd_rd_wg=Ml1aa&pd_rd_r=e5293e7a-394c-4b04-ba62-0b7a5e30aa12\n",
      "🌐🌐🌐🌐🌐🌐🌐🌐🌐🌐\n"
     ]
    }
   ],
   "source": [
    "s = Scraper(url)"
   ]
  },
  {
   "cell_type": "code",
   "execution_count": 10,
   "metadata": {},
   "outputs": [
    {
     "data": {
      "text/plain": [
       "{'title': '        POCO C55 (Cool Blue, 6GB RAM, 128GB Storage)       ',\n",
       " 'price': '6,499.',\n",
       " 'review_count': '1,269 ratings',\n",
       " 'features': ' \\n About this item    Processor: High performance MediaTek G85 ; Enhance gaming with 1GHz GPU | 11GB of RAM including 5GB virtual | 6.71\" HD+ Large Display, Scratch Resistant Display with Oleophobic Coating| 50MP AI Dual camera |Fast Rear fingerprint | 5000mAh Battery | Premium Leather-like stich design | IP52 Protection    6.71\" HD+ Large display , 120 Hz touch sampling rate, Scratch Resistant Display with Oleophobic Coating    50MP AI Dual camera with Primary sensor of f/1.8 Aperture, 1.28um (4-in-1 Super Pixel) with the following modes: Photo | Portrait | Night | Video | 50MP mode | Time-lapse | filters | Movie Frame | HDR | Voice Shutter | Doccumen Mode | Tilt Shift | Timed Burst    \\n›  See more product details  '}"
      ]
     },
     "execution_count": 10,
     "metadata": {},
     "output_type": "execute_result"
    }
   ],
   "source": [
    "s.get_page_data(title = title, price = price, review_count = review_count , features = features)\n",
    "#s.get_page_data(title = title, price = price, errors = True) -> to find w"
   ]
  },
  {
   "cell_type": "code",
   "execution_count": null,
   "metadata": {},
   "outputs": [],
   "source": []
  }
 ],
 "metadata": {
  "kernelspec": {
   "display_name": "Python 3",
   "language": "python",
   "name": "python3"
  },
  "language_info": {
   "codemirror_mode": {
    "name": "ipython",
    "version": 3
   },
   "file_extension": ".py",
   "mimetype": "text/x-python",
   "name": "python",
   "nbconvert_exporter": "python",
   "pygments_lexer": "ipython3",
   "version": "3.12.0"
  }
 },
 "nbformat": 4,
 "nbformat_minor": 2
}
