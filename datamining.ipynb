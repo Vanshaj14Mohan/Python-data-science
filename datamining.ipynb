{
 "cells": [
  {
   "cell_type": "code",
   "execution_count": null,
   "metadata": {},
   "outputs": [],
   "source": [
    "#first install a library\n",
    "#pip install dputils, used for -> file coversion & data mining."
   ]
  },
  {
   "cell_type": "markdown",
   "metadata": {},
   "source": [
    "#### Copy url first "
   ]
  },
  {
   "cell_type": "code",
   "execution_count": 1,
   "metadata": {},
   "outputs": [],
   "source": [
    "url =\"https://www.amazon.in/POCO-C55-Cool-Blue-128/dp/B0BX9WNP7W/?_encoding=UTF8&_encoding=UTF8&ref_=dlx_gate_sd_dcl_tlt_88cdcaa6_dt_pd_gw_unk&pd_rd_w=GPBGA&content-id=amzn1.sym.9e4ae409-2145-4395-aa6e-45d7f3e95c3e&pf_rd_p=9e4ae409-2145-4395-aa6e-45d7f3e95c3e&pf_rd_r=ZSGZSXJSZDBBZWCDV5H8&pd_rd_wg=Ml1aa&pd_rd_r=e5293e7a-394c-4b04-ba62-0b7a5e30aa12\""
   ]
  },
  {
   "cell_type": "code",
   "execution_count": 3,
   "metadata": {},
   "outputs": [],
   "source": [
    "from dputils.scrape import Scraper, Tag"
   ]
  },
  {
   "cell_type": "code",
   "execution_count": 9,
   "metadata": {},
   "outputs": [],
   "source": [
    "#variable for tag class\n",
    "title = Tag(\"span\", id=\"productTitle\")\n",
    "price = Tag(\"span\", cls=\"a-price-whole\")\n",
    "review_count = Tag(\"span\", id=\"acrCustomerReviewText\")\n",
    "features = Tag(id=\"feature-bullets\")"
   ]
  },
  {
   "cell_type": "markdown",
   "metadata": {},
   "source": [
    "## Creating Scraper\n"
   ]
  },
  {
   "cell_type": "code",
   "execution_count": 5,
   "metadata": {},
   "outputs": [
    {
     "name": "stdout",
     "output_type": "stream",
     "text": [
      "Selecting a random User-Agent...\n",
      "Randomly picked browser: Firefox\n",
      "Randomly picked operating system: Windows\n",
      "🌐🌐🌐🌐🌐🌐🌐🌐🌐🌐\n",
      "User agent:  {'User-Agent': 'Mozilla/5.0 (Windows NT 10.0; Win64; x64; rv:94.0) Gecko/20100101 Firefox/94.0'}\n",
      "Cookies:  {'session-id': '', 'session-id-time': '', 'session-token': ''}\n",
      "url:  https://www.amazon.in/POCO-C55-Cool-Blue-128/dp/B0BX9WNP7W/?_encoding=UTF8&_encoding=UTF8&ref_=dlx_gate_sd_dcl_tlt_88cdcaa6_dt_pd_gw_unk&pd_rd_w=GPBGA&content-id=amzn1.sym.9e4ae409-2145-4395-aa6e-45d7f3e95c3e&pf_rd_p=9e4ae409-2145-4395-aa6e-45d7f3e95c3e&pf_rd_r=ZSGZSXJSZDBBZWCDV5H8&pd_rd_wg=Ml1aa&pd_rd_r=e5293e7a-394c-4b04-ba62-0b7a5e30aa12\n",
      "🌐🌐🌐🌐🌐🌐🌐🌐🌐🌐\n"
     ]
    }
   ],
   "source": [
    "s = Scraper(url)"
   ]
  },
  {
   "cell_type": "code",
   "execution_count": 10,
   "metadata": {},
   "outputs": [
    {
     "data": {
      "text/plain": [
       "{'title': '        POCO C55 (Cool Blue, 6GB RAM, 128GB Storage)       ',\n",
       " 'price': '6,499.',\n",
       " 'review_count': '1,269 ratings',\n",
       " 'features': ' \\n About this item    Processor: High performance MediaTek G85 ; Enhance gaming with 1GHz GPU | 11GB of RAM including 5GB virtual | 6.71\" HD+ Large Display, Scratch Resistant Display with Oleophobic Coating| 50MP AI Dual camera |Fast Rear fingerprint | 5000mAh Battery | Premium Leather-like stich design | IP52 Protection    6.71\" HD+ Large display , 120 Hz touch sampling rate, Scratch Resistant Display with Oleophobic Coating    50MP AI Dual camera with Primary sensor of f/1.8 Aperture, 1.28um (4-in-1 Super Pixel) with the following modes: Photo | Portrait | Night | Video | 50MP mode | Time-lapse | filters | Movie Frame | HDR | Voice Shutter | Doccumen Mode | Tilt Shift | Timed Burst    \\n›  See more product details  '}"
      ]
     },
     "execution_count": 10,
     "metadata": {},
     "output_type": "execute_result"
    }
   ],
   "source": [
    "s.get_page_data(title = title, price = price, review_count = review_count , features = features)\n",
    "#s.get_page_data(title = title, price = price, errors = True) -> to find w"
   ]
  },
  {
   "cell_type": "markdown",
   "metadata": {},
   "source": [
    "Multipage Crawler -spider - bot"
   ]
  },
  {
   "cell_type": "code",
   "execution_count": 11,
   "metadata": {},
   "outputs": [
    {
     "name": "stdout",
     "output_type": "stream",
     "text": [
      "Selecting a random User-Agent...\n",
      "Randomly picked browser: Chrome\n",
      "Randomly picked operating system: Linux\n",
      "🌐🌐🌐🌐🌐🌐🌐🌐🌐🌐\n",
      "User agent:  {'User-Agent': 'Mozilla/5.0 (X11; Linux x86_64) AppleWebKit/537.36 (KHTML, like Gecko) Chrome/94.0.4606.61 Safari/537.36'}\n",
      "Cookies:  {'session-id': '', 'session-id-time': '', 'session-token': ''}\n",
      "url:  https://www.amazon.in/s?k=mobiles&i=electronics&crid=3I0VUVMSH9AY5&sprefix=mobiles%2Celectronics%2C450&ref=nb_sb_noss_1\n",
      "🌐🌐🌐🌐🌐🌐🌐🌐🌐🌐\n"
     ]
    },
    {
     "data": {
      "text/plain": [
       "[{'link': '/sspa/click?ie=UTF8&spc=MTo3NDYwNDI2MzE0Nzc1MDkwOjE3MTE4Nzk5MzI6c3BfYXRmOjMwMDEyMjM5NTM2ODUzMjo6MDo6&url=%2FSamsung-Galaxy-Smartphone-Titanium-Storage%2Fdp%2FB0CQYGF1QY%2Fref%3Dsr_1_1_sspa%3Fcrid%3D3I0VUVMSH9AY5%26dib%3DeyJ2IjoiMSJ9.Zq0Y7G2Dd8-IZ16QAD15i-PI_4BxV9qE03mhKPRq9Ozfg3n5XMbxps4phGwq11rCNOLutWDenZ6FfN3rF1ArmO57Nk2d02tlyOaTOY-XA9v80xSHgcDCWxsNqIB18GDGnIzgtKEm5-9RzeeqQQ7A-V7ulUzhICNRU_zRWJp8lCIAPfqCIXDFjkhHJ0CVznZ9-7ATz7IQHmtRWv_-guGFfq_OYLbkjZJ0eqrNZGgQTyAlpLvQ-4Ffc8WxqWbFmzFJPgWXkWxCpqRi8_PRRgUrkNv8vlPqSn8vtBt2s1g3V00.RgNtotcpfdWLDaWS-uxHcxWnvNtiKe2YE4D2E4v8VAQ%26dib_tag%3Dse%26keywords%3Dmobiles%26qid%3D1711879932%26s%3Delectronics%26sprefix%3Dmobiles%252Celectronics%252C450%26sr%3D1-1-spons%26sp_csd%3Dd2lkZ2V0TmFtZT1zcF9hdGY%26psc%3D1'},\n",
       " {'link': '/sspa/click?ie=UTF8&spc=MTo3NDYwNDI2MzE0Nzc1MDkwOjE3MTE4Nzk5MzI6c3BfYXRmOjMwMDAyODA1ODgzNTMzMjo6MDo6&url=%2FRedmi-Pastel-Blue-4GB-128GB%2Fdp%2FB0C9JD8324%2Fref%3Dsr_1_2_sspa%3Fcrid%3D3I0VUVMSH9AY5%26dib%3DeyJ2IjoiMSJ9.Zq0Y7G2Dd8-IZ16QAD15i-PI_4BxV9qE03mhKPRq9Ozfg3n5XMbxps4phGwq11rCNOLutWDenZ6FfN3rF1ArmO57Nk2d02tlyOaTOY-XA9v80xSHgcDCWxsNqIB18GDGnIzgtKEm5-9RzeeqQQ7A-V7ulUzhICNRU_zRWJp8lCIAPfqCIXDFjkhHJ0CVznZ9-7ATz7IQHmtRWv_-guGFfq_OYLbkjZJ0eqrNZGgQTyAlpLvQ-4Ffc8WxqWbFmzFJPgWXkWxCpqRi8_PRRgUrkNv8vlPqSn8vtBt2s1g3V00.RgNtotcpfdWLDaWS-uxHcxWnvNtiKe2YE4D2E4v8VAQ%26dib_tag%3Dse%26keywords%3Dmobiles%26qid%3D1711879932%26s%3Delectronics%26sprefix%3Dmobiles%252Celectronics%252C450%26sr%3D1-2-spons%26sp_csd%3Dd2lkZ2V0TmFtZT1zcF9hdGY%26psc%3D1'},\n",
       " {'link': '/POCO-C55-Cool-Blue-128/dp/B0BX9WNP7W/ref=ice_ac_b_dpb?crid=3I0VUVMSH9AY5&dib=eyJ2IjoiMSJ9.Zq0Y7G2Dd8-IZ16QAD15i-PI_4BxV9qE03mhKPRq9Ozfg3n5XMbxps4phGwq11rCNOLutWDenZ6FfN3rF1ArmO57Nk2d02tlyOaTOY-XA9v80xSHgcDCWxsNqIB18GDGnIzgtKEm5-9RzeeqQQ7A-V7ulUzhICNRU_zRWJp8lCIAPfqCIXDFjkhHJ0CVznZ9-7ATz7IQHmtRWv_-guGFfq_OYLbkjZJ0eqrNZGgQTyAlpLvQ-4Ffc8WxqWbFmzFJPgWXkWxCpqRi8_PRRgUrkNv8vlPqSn8vtBt2s1g3V00.RgNtotcpfdWLDaWS-uxHcxWnvNtiKe2YE4D2E4v8VAQ&dib_tag=se&keywords=mobiles&qid=1711879932&s=electronics&sprefix=mobiles%2Celectronics%2C450&sr=1-3'},\n",
       " {'link': '/Samsung-Segments-Smartphone-Octa-Core-Processor/dp/B0BZCWLJHK/ref=sr_1_4?crid=3I0VUVMSH9AY5&dib=eyJ2IjoiMSJ9.Zq0Y7G2Dd8-IZ16QAD15i-PI_4BxV9qE03mhKPRq9Ozfg3n5XMbxps4phGwq11rCNOLutWDenZ6FfN3rF1ArmO57Nk2d02tlyOaTOY-XA9v80xSHgcDCWxsNqIB18GDGnIzgtKEm5-9RzeeqQQ7A-V7ulUzhICNRU_zRWJp8lCIAPfqCIXDFjkhHJ0CVznZ9-7ATz7IQHmtRWv_-guGFfq_OYLbkjZJ0eqrNZGgQTyAlpLvQ-4Ffc8WxqWbFmzFJPgWXkWxCpqRi8_PRRgUrkNv8vlPqSn8vtBt2s1g3V00.RgNtotcpfdWLDaWS-uxHcxWnvNtiKe2YE4D2E4v8VAQ&dib_tag=se&keywords=mobiles&qid=1711879932&s=electronics&sprefix=mobiles%2Celectronics%2C450&sr=1-4'},\n",
       " {'link': '/Samsung-Segments-Smartphone-Octa-Core-Processor/dp/B0BZCR6TNK/ref=sr_1_5?crid=3I0VUVMSH9AY5&dib=eyJ2IjoiMSJ9.Zq0Y7G2Dd8-IZ16QAD15i-PI_4BxV9qE03mhKPRq9Ozfg3n5XMbxps4phGwq11rCNOLutWDenZ6FfN3rF1ArmO57Nk2d02tlyOaTOY-XA9v80xSHgcDCWxsNqIB18GDGnIzgtKEm5-9RzeeqQQ7A-V7ulUzhICNRU_zRWJp8lCIAPfqCIXDFjkhHJ0CVznZ9-7ATz7IQHmtRWv_-guGFfq_OYLbkjZJ0eqrNZGgQTyAlpLvQ-4Ffc8WxqWbFmzFJPgWXkWxCpqRi8_PRRgUrkNv8vlPqSn8vtBt2s1g3V00.RgNtotcpfdWLDaWS-uxHcxWnvNtiKe2YE4D2E4v8VAQ&dib_tag=se&keywords=mobiles&qid=1711879932&s=electronics&sprefix=mobiles%2Celectronics%2C450&sr=1-5'},\n",
       " {'link': '/realme-Feather-Segment-Charging-Slimmest/dp/B0CKN5LGDW/ref=sr_1_6?crid=3I0VUVMSH9AY5&dib=eyJ2IjoiMSJ9.Zq0Y7G2Dd8-IZ16QAD15i-PI_4BxV9qE03mhKPRq9Ozfg3n5XMbxps4phGwq11rCNOLutWDenZ6FfN3rF1ArmO57Nk2d02tlyOaTOY-XA9v80xSHgcDCWxsNqIB18GDGnIzgtKEm5-9RzeeqQQ7A-V7ulUzhICNRU_zRWJp8lCIAPfqCIXDFjkhHJ0CVznZ9-7ATz7IQHmtRWv_-guGFfq_OYLbkjZJ0eqrNZGgQTyAlpLvQ-4Ffc8WxqWbFmzFJPgWXkWxCpqRi8_PRRgUrkNv8vlPqSn8vtBt2s1g3V00.RgNtotcpfdWLDaWS-uxHcxWnvNtiKe2YE4D2E4v8VAQ&dib_tag=se&keywords=mobiles&qid=1711879932&s=electronics&sprefix=mobiles%2Celectronics%2C450&sr=1-6'},\n",
       " {'link': '/Samsung-Segments-Smartphone-Octa-Core-Processor/dp/B0BZCSSNV7/ref=sr_1_7?crid=3I0VUVMSH9AY5&dib=eyJ2IjoiMSJ9.Zq0Y7G2Dd8-IZ16QAD15i-PI_4BxV9qE03mhKPRq9Ozfg3n5XMbxps4phGwq11rCNOLutWDenZ6FfN3rF1ArmO57Nk2d02tlyOaTOY-XA9v80xSHgcDCWxsNqIB18GDGnIzgtKEm5-9RzeeqQQ7A-V7ulUzhICNRU_zRWJp8lCIAPfqCIXDFjkhHJ0CVznZ9-7ATz7IQHmtRWv_-guGFfq_OYLbkjZJ0eqrNZGgQTyAlpLvQ-4Ffc8WxqWbFmzFJPgWXkWxCpqRi8_PRRgUrkNv8vlPqSn8vtBt2s1g3V00.RgNtotcpfdWLDaWS-uxHcxWnvNtiKe2YE4D2E4v8VAQ&dib_tag=se&keywords=mobiles&qid=1711879932&s=electronics&sprefix=mobiles%2Celectronics%2C450&sr=1-7'},\n",
       " {'link': '/Starfrost-Storage-Powered-MediaTek-Display/dp/B0CMTY5P4V/ref=sr_1_8?crid=3I0VUVMSH9AY5&dib=eyJ2IjoiMSJ9.Zq0Y7G2Dd8-IZ16QAD15i-PI_4BxV9qE03mhKPRq9Ozfg3n5XMbxps4phGwq11rCNOLutWDenZ6FfN3rF1ArmO57Nk2d02tlyOaTOY-XA9v80xSHgcDCWxsNqIB18GDGnIzgtKEm5-9RzeeqQQ7A-V7ulUzhICNRU_zRWJp8lCIAPfqCIXDFjkhHJ0CVznZ9-7ATz7IQHmtRWv_-guGFfq_OYLbkjZJ0eqrNZGgQTyAlpLvQ-4Ffc8WxqWbFmzFJPgWXkWxCpqRi8_PRRgUrkNv8vlPqSn8vtBt2s1g3V00.RgNtotcpfdWLDaWS-uxHcxWnvNtiKe2YE4D2E4v8VAQ&dib_tag=se&keywords=mobiles&qid=1711879932&s=electronics&sprefix=mobiles%2Celectronics%2C450&sr=1-8'},\n",
       " {'link': '/gp/bestsellers/electronics/1805559031/ref=sr_bs_8_1805559031_1'},\n",
       " {'link': '/Redmi-Aqua-Blue-64GB-Storage/dp/B0C74LZSQB/ref=sr_1_10?crid=3I0VUVMSH9AY5&dib=eyJ2IjoiMSJ9.Zq0Y7G2Dd8-IZ16QAD15i-PI_4BxV9qE03mhKPRq9Ozfg3n5XMbxps4phGwq11rCNOLutWDenZ6FfN3rF1ArmO57Nk2d02tlyOaTOY-XA9v80xSHgcDCWxsNqIB18GDGnIzgtKEm5-9RzeeqQQ7A-V7ulUzhICNRU_zRWJp8lCIAPfqCIXDFjkhHJ0CVznZ9-7ATz7IQHmtRWv_-guGFfq_OYLbkjZJ0eqrNZGgQTyAlpLvQ-4Ffc8WxqWbFmzFJPgWXkWxCpqRi8_PRRgUrkNv8vlPqSn8vtBt2s1g3V00.RgNtotcpfdWLDaWS-uxHcxWnvNtiKe2YE4D2E4v8VAQ&dib_tag=se&keywords=mobiles&qid=1711879932&s=electronics&sprefix=mobiles%2Celectronics%2C450&sr=1-10'},\n",
       " {'link': '/Redmi-Sea-Green-64GB-Storage/dp/B0C74PD9VG/ref=sr_1_11?crid=3I0VUVMSH9AY5&dib=eyJ2IjoiMSJ9.Zq0Y7G2Dd8-IZ16QAD15i-PI_4BxV9qE03mhKPRq9Ozfg3n5XMbxps4phGwq11rCNOLutWDenZ6FfN3rF1ArmO57Nk2d02tlyOaTOY-XA9v80xSHgcDCWxsNqIB18GDGnIzgtKEm5-9RzeeqQQ7A-V7ulUzhICNRU_zRWJp8lCIAPfqCIXDFjkhHJ0CVznZ9-7ATz7IQHmtRWv_-guGFfq_OYLbkjZJ0eqrNZGgQTyAlpLvQ-4Ffc8WxqWbFmzFJPgWXkWxCpqRi8_PRRgUrkNv8vlPqSn8vtBt2s1g3V00.RgNtotcpfdWLDaWS-uxHcxWnvNtiKe2YE4D2E4v8VAQ&dib_tag=se&keywords=mobiles&qid=1711879932&s=electronics&sprefix=mobiles%2Celectronics%2C450&sr=1-11'},\n",
       " {'link': '/POCO-C55-Power-Black-128/dp/B0BX9ZZ99D/ref=sr_1_12?crid=3I0VUVMSH9AY5&dib=eyJ2IjoiMSJ9.Zq0Y7G2Dd8-IZ16QAD15i-PI_4BxV9qE03mhKPRq9Ozfg3n5XMbxps4phGwq11rCNOLutWDenZ6FfN3rF1ArmO57Nk2d02tlyOaTOY-XA9v80xSHgcDCWxsNqIB18GDGnIzgtKEm5-9RzeeqQQ7A-V7ulUzhICNRU_zRWJp8lCIAPfqCIXDFjkhHJ0CVznZ9-7ATz7IQHmtRWv_-guGFfq_OYLbkjZJ0eqrNZGgQTyAlpLvQ-4Ffc8WxqWbFmzFJPgWXkWxCpqRi8_PRRgUrkNv8vlPqSn8vtBt2s1g3V00.RgNtotcpfdWLDaWS-uxHcxWnvNtiKe2YE4D2E4v8VAQ&dib_tag=se&keywords=mobiles&qid=1711879932&s=electronics&sprefix=mobiles%2Celectronics%2C450&sr=1-12'},\n",
       " {'link': '/realme-Feather-Segment-Charging-Slimmest/dp/B0C45N5VPT/ref=sr_1_13?crid=3I0VUVMSH9AY5&dib=eyJ2IjoiMSJ9.Zq0Y7G2Dd8-IZ16QAD15i-PI_4BxV9qE03mhKPRq9Ozfg3n5XMbxps4phGwq11rCNOLutWDenZ6FfN3rF1ArmO57Nk2d02tlyOaTOY-XA9v80xSHgcDCWxsNqIB18GDGnIzgtKEm5-9RzeeqQQ7A-V7ulUzhICNRU_zRWJp8lCIAPfqCIXDFjkhHJ0CVznZ9-7ATz7IQHmtRWv_-guGFfq_OYLbkjZJ0eqrNZGgQTyAlpLvQ-4Ffc8WxqWbFmzFJPgWXkWxCpqRi8_PRRgUrkNv8vlPqSn8vtBt2s1g3V00.RgNtotcpfdWLDaWS-uxHcxWnvNtiKe2YE4D2E4v8VAQ&dib_tag=se&keywords=mobiles&qid=1711879932&s=electronics&sprefix=mobiles%2Celectronics%2C450&sr=1-13'},\n",
       " {'link': '/realme-Woodland-Portrait-SUPERVOOC-Speakers/dp/B0CX213ZZM/ref=sr_1_14?crid=3I0VUVMSH9AY5&dib=eyJ2IjoiMSJ9.Zq0Y7G2Dd8-IZ16QAD15i-PI_4BxV9qE03mhKPRq9Ozfg3n5XMbxps4phGwq11rCNOLutWDenZ6FfN3rF1ArmO57Nk2d02tlyOaTOY-XA9v80xSHgcDCWxsNqIB18GDGnIzgtKEm5-9RzeeqQQ7A-V7ulUzhICNRU_zRWJp8lCIAPfqCIXDFjkhHJ0CVznZ9-7ATz7IQHmtRWv_-guGFfq_OYLbkjZJ0eqrNZGgQTyAlpLvQ-4Ffc8WxqWbFmzFJPgWXkWxCpqRi8_PRRgUrkNv8vlPqSn8vtBt2s1g3V00.RgNtotcpfdWLDaWS-uxHcxWnvNtiKe2YE4D2E4v8VAQ&dib_tag=se&keywords=mobiles&qid=1711879932&s=electronics&sprefix=mobiles%2Celectronics%2C450&sr=1-14'},\n",
       " {'link': '/sspa/click?ie=UTF8&spc=MTo3NDYwNDI2MzE0Nzc1MDkwOjE3MTE4Nzk5MzI6c3BfbXRmOjMwMDE0ODQxMjcyMTUzMjo6MDo6&url=%2Frealme-narzo-Pro-128-Green%2Fdp%2FB0CHQKRVMQ%2Fref%3Dsr_1_15_sspa%3Fcrid%3D3I0VUVMSH9AY5%26dib%3DeyJ2IjoiMSJ9.Zq0Y7G2Dd8-IZ16QAD15i-PI_4BxV9qE03mhKPRq9Ozfg3n5XMbxps4phGwq11rCNOLutWDenZ6FfN3rF1ArmO57Nk2d02tlyOaTOY-XA9v80xSHgcDCWxsNqIB18GDGnIzgtKEm5-9RzeeqQQ7A-V7ulUzhICNRU_zRWJp8lCIAPfqCIXDFjkhHJ0CVznZ9-7ATz7IQHmtRWv_-guGFfq_OYLbkjZJ0eqrNZGgQTyAlpLvQ-4Ffc8WxqWbFmzFJPgWXkWxCpqRi8_PRRgUrkNv8vlPqSn8vtBt2s1g3V00.RgNtotcpfdWLDaWS-uxHcxWnvNtiKe2YE4D2E4v8VAQ%26dib_tag%3Dse%26keywords%3Dmobiles%26qid%3D1711879932%26s%3Delectronics%26sprefix%3Dmobiles%252Celectronics%252C450%26sr%3D1-15-spons%26sp_csd%3Dd2lkZ2V0TmFtZT1zcF9tdGY%26psc%3D1'},\n",
       " {'link': '/sspa/click?ie=UTF8&spc=MTo3NDYwNDI2MzE0Nzc1MDkwOjE3MTE4Nzk5MzI6c3BfbXRmOjMwMDE1MjgxMDc0NDczMjo6MDo6&url=%2FRedmi-Arctic-Storage-Flagship-TurboCharge%2Fdp%2FB0CRQFGKXG%2Fref%3Dsr_1_16_sspa%3Fcrid%3D3I0VUVMSH9AY5%26dib%3DeyJ2IjoiMSJ9.Zq0Y7G2Dd8-IZ16QAD15i-PI_4BxV9qE03mhKPRq9Ozfg3n5XMbxps4phGwq11rCNOLutWDenZ6FfN3rF1ArmO57Nk2d02tlyOaTOY-XA9v80xSHgcDCWxsNqIB18GDGnIzgtKEm5-9RzeeqQQ7A-V7ulUzhICNRU_zRWJp8lCIAPfqCIXDFjkhHJ0CVznZ9-7ATz7IQHmtRWv_-guGFfq_OYLbkjZJ0eqrNZGgQTyAlpLvQ-4Ffc8WxqWbFmzFJPgWXkWxCpqRi8_PRRgUrkNv8vlPqSn8vtBt2s1g3V00.RgNtotcpfdWLDaWS-uxHcxWnvNtiKe2YE4D2E4v8VAQ%26dib_tag%3Dse%26keywords%3Dmobiles%26qid%3D1711879932%26s%3Delectronics%26sprefix%3Dmobiles%252Celectronics%252C450%26sr%3D1-16-spons%26sp_csd%3Dd2lkZ2V0TmFtZT1zcF9tdGY%26psc%3D1'},\n",
       " {'link': '/Tecno-Spark-Infinity-Expandable-Processor/dp/B0B56YWX99/ref=sr_1_17?crid=3I0VUVMSH9AY5&dib=eyJ2IjoiMSJ9.Zq0Y7G2Dd8-IZ16QAD15i-PI_4BxV9qE03mhKPRq9Ozfg3n5XMbxps4phGwq11rCNOLutWDenZ6FfN3rF1ArmO57Nk2d02tlyOaTOY-XA9v80xSHgcDCWxsNqIB18GDGnIzgtKEm5-9RzeeqQQ7A-V7ulUzhICNRU_zRWJp8lCIAPfqCIXDFjkhHJ0CVznZ9-7ATz7IQHmtRWv_-guGFfq_OYLbkjZJ0eqrNZGgQTyAlpLvQ-4Ffc8WxqWbFmzFJPgWXkWxCpqRi8_PRRgUrkNv8vlPqSn8vtBt2s1g3V00.RgNtotcpfdWLDaWS-uxHcxWnvNtiKe2YE4D2E4v8VAQ&dib_tag=se&keywords=mobiles&qid=1711879932&s=electronics&sprefix=mobiles%2Celectronics%2C450&sr=1-17'},\n",
       " {'link': '/realme-Cosmic-Display-SUPERVOOC-Charger/dp/B0C78869XJ/ref=sr_1_18?crid=3I0VUVMSH9AY5&dib=eyJ2IjoiMSJ9.Zq0Y7G2Dd8-IZ16QAD15i-PI_4BxV9qE03mhKPRq9Ozfg3n5XMbxps4phGwq11rCNOLutWDenZ6FfN3rF1ArmO57Nk2d02tlyOaTOY-XA9v80xSHgcDCWxsNqIB18GDGnIzgtKEm5-9RzeeqQQ7A-V7ulUzhICNRU_zRWJp8lCIAPfqCIXDFjkhHJ0CVznZ9-7ATz7IQHmtRWv_-guGFfq_OYLbkjZJ0eqrNZGgQTyAlpLvQ-4Ffc8WxqWbFmzFJPgWXkWxCpqRi8_PRRgUrkNv8vlPqSn8vtBt2s1g3V00.RgNtotcpfdWLDaWS-uxHcxWnvNtiKe2YE4D2E4v8VAQ&dib_tag=se&keywords=mobiles&qid=1711879932&s=electronics&sprefix=mobiles%2Celectronics%2C450&sr=1-18'},\n",
       " {'link': '/realme-5G%EF%BC%88Nebula-External-Segments-Supervooc/dp/B0CGDNJX9X/ref=sr_1_19?crid=3I0VUVMSH9AY5&dib=eyJ2IjoiMSJ9.Zq0Y7G2Dd8-IZ16QAD15i-PI_4BxV9qE03mhKPRq9Ozfg3n5XMbxps4phGwq11rCNOLutWDenZ6FfN3rF1ArmO57Nk2d02tlyOaTOY-XA9v80xSHgcDCWxsNqIB18GDGnIzgtKEm5-9RzeeqQQ7A-V7ulUzhICNRU_zRWJp8lCIAPfqCIXDFjkhHJ0CVznZ9-7ATz7IQHmtRWv_-guGFfq_OYLbkjZJ0eqrNZGgQTyAlpLvQ-4Ffc8WxqWbFmzFJPgWXkWxCpqRi8_PRRgUrkNv8vlPqSn8vtBt2s1g3V00.RgNtotcpfdWLDaWS-uxHcxWnvNtiKe2YE4D2E4v8VAQ&dib_tag=se&keywords=mobiles&qid=1711879932&s=electronics&sprefix=mobiles%2Celectronics%2C450&sr=1-19'},\n",
       " {'link': '/Redmi-Jade-Black-6GB-128GB/dp/B0C9JFWBH7/ref=sr_1_20?crid=3I0VUVMSH9AY5&dib=eyJ2IjoiMSJ9.Zq0Y7G2Dd8-IZ16QAD15i-PI_4BxV9qE03mhKPRq9Ozfg3n5XMbxps4phGwq11rCNOLutWDenZ6FfN3rF1ArmO57Nk2d02tlyOaTOY-XA9v80xSHgcDCWxsNqIB18GDGnIzgtKEm5-9RzeeqQQ7A-V7ulUzhICNRU_zRWJp8lCIAPfqCIXDFjkhHJ0CVznZ9-7ATz7IQHmtRWv_-guGFfq_OYLbkjZJ0eqrNZGgQTyAlpLvQ-4Ffc8WxqWbFmzFJPgWXkWxCpqRi8_PRRgUrkNv8vlPqSn8vtBt2s1g3V00.RgNtotcpfdWLDaWS-uxHcxWnvNtiKe2YE4D2E4v8VAQ&dib_tag=se&keywords=mobiles&qid=1711879932&s=electronics&sprefix=mobiles%2Celectronics%2C450&sr=1-20'},\n",
       " {'link': '/Redmi-12-5G-Moonstone-Silver/dp/B0C9J97Z2D/ref=sr_1_21?crid=3I0VUVMSH9AY5&dib=eyJ2IjoiMSJ9.Zq0Y7G2Dd8-IZ16QAD15i-PI_4BxV9qE03mhKPRq9Ozfg3n5XMbxps4phGwq11rCNOLutWDenZ6FfN3rF1ArmO57Nk2d02tlyOaTOY-XA9v80xSHgcDCWxsNqIB18GDGnIzgtKEm5-9RzeeqQQ7A-V7ulUzhICNRU_zRWJp8lCIAPfqCIXDFjkhHJ0CVznZ9-7ATz7IQHmtRWv_-guGFfq_OYLbkjZJ0eqrNZGgQTyAlpLvQ-4Ffc8WxqWbFmzFJPgWXkWxCpqRi8_PRRgUrkNv8vlPqSn8vtBt2s1g3V00.RgNtotcpfdWLDaWS-uxHcxWnvNtiKe2YE4D2E4v8VAQ&dib_tag=se&keywords=mobiles&qid=1711879932&s=electronics&sprefix=mobiles%2Celectronics%2C450&sr=1-21'},\n",
       " {'link': '/realme-Display-Premium-Leather-SUPERVOOC/dp/B0C788SHHC/ref=sr_1_22?crid=3I0VUVMSH9AY5&dib=eyJ2IjoiMSJ9.Zq0Y7G2Dd8-IZ16QAD15i-PI_4BxV9qE03mhKPRq9Ozfg3n5XMbxps4phGwq11rCNOLutWDenZ6FfN3rF1ArmO57Nk2d02tlyOaTOY-XA9v80xSHgcDCWxsNqIB18GDGnIzgtKEm5-9RzeeqQQ7A-V7ulUzhICNRU_zRWJp8lCIAPfqCIXDFjkhHJ0CVznZ9-7ATz7IQHmtRWv_-guGFfq_OYLbkjZJ0eqrNZGgQTyAlpLvQ-4Ffc8WxqWbFmzFJPgWXkWxCpqRi8_PRRgUrkNv8vlPqSn8vtBt2s1g3V00.RgNtotcpfdWLDaWS-uxHcxWnvNtiKe2YE4D2E4v8VAQ&dib_tag=se&keywords=mobiles&qid=1711879932&s=electronics&sprefix=mobiles%2Celectronics%2C450&sr=1-22'},\n",
       " {'link': '/Redmi-Moonstone-Silver-6GB-128GB/dp/B0C9J9CZR6/ref=sr_1_23?crid=3I0VUVMSH9AY5&dib=eyJ2IjoiMSJ9.Zq0Y7G2Dd8-IZ16QAD15i-PI_4BxV9qE03mhKPRq9Ozfg3n5XMbxps4phGwq11rCNOLutWDenZ6FfN3rF1ArmO57Nk2d02tlyOaTOY-XA9v80xSHgcDCWxsNqIB18GDGnIzgtKEm5-9RzeeqQQ7A-V7ulUzhICNRU_zRWJp8lCIAPfqCIXDFjkhHJ0CVznZ9-7ATz7IQHmtRWv_-guGFfq_OYLbkjZJ0eqrNZGgQTyAlpLvQ-4Ffc8WxqWbFmzFJPgWXkWxCpqRi8_PRRgUrkNv8vlPqSn8vtBt2s1g3V00.RgNtotcpfdWLDaWS-uxHcxWnvNtiKe2YE4D2E4v8VAQ&dib_tag=se&keywords=mobiles&qid=1711879932&s=electronics&sprefix=mobiles%2Celectronics%2C450&sr=1-23'},\n",
       " {'link': '/realme-5G%EF%BC%88Stellar-External-Segments-Supervooc/dp/B0CGDQRR9Y/ref=sr_1_24?crid=3I0VUVMSH9AY5&dib=eyJ2IjoiMSJ9.Zq0Y7G2Dd8-IZ16QAD15i-PI_4BxV9qE03mhKPRq9Ozfg3n5XMbxps4phGwq11rCNOLutWDenZ6FfN3rF1ArmO57Nk2d02tlyOaTOY-XA9v80xSHgcDCWxsNqIB18GDGnIzgtKEm5-9RzeeqQQ7A-V7ulUzhICNRU_zRWJp8lCIAPfqCIXDFjkhHJ0CVznZ9-7ATz7IQHmtRWv_-guGFfq_OYLbkjZJ0eqrNZGgQTyAlpLvQ-4Ffc8WxqWbFmzFJPgWXkWxCpqRi8_PRRgUrkNv8vlPqSn8vtBt2s1g3V00.RgNtotcpfdWLDaWS-uxHcxWnvNtiKe2YE4D2E4v8VAQ&dib_tag=se&keywords=mobiles&qid=1711879932&s=electronics&sprefix=mobiles%2Celectronics%2C450&sr=1-24'},\n",
       " {'link': '/POCO-Power-Black-256GB-Storage/dp/B0CP97SBB9/ref=sr_1_25?crid=3I0VUVMSH9AY5&dib=eyJ2IjoiMSJ9.Zq0Y7G2Dd8-IZ16QAD15i-PI_4BxV9qE03mhKPRq9Ozfg3n5XMbxps4phGwq11rCNOLutWDenZ6FfN3rF1ArmO57Nk2d02tlyOaTOY-XA9v80xSHgcDCWxsNqIB18GDGnIzgtKEm5-9RzeeqQQ7A-V7ulUzhICNRU_zRWJp8lCIAPfqCIXDFjkhHJ0CVznZ9-7ATz7IQHmtRWv_-guGFfq_OYLbkjZJ0eqrNZGgQTyAlpLvQ-4Ffc8WxqWbFmzFJPgWXkWxCpqRi8_PRRgUrkNv8vlPqSn8vtBt2s1g3V00.RgNtotcpfdWLDaWS-uxHcxWnvNtiKe2YE4D2E4v8VAQ&dib_tag=se&keywords=mobiles&qid=1711879932&s=electronics&sprefix=mobiles%2Celectronics%2C450&sr=1-25'},\n",
       " {'link': '/OnePlus-Nord-Chromatic-256GB-Storage/dp/B0BY8L3RZ6/ref=sr_1_26?crid=3I0VUVMSH9AY5&dib=eyJ2IjoiMSJ9.Zq0Y7G2Dd8-IZ16QAD15i-PI_4BxV9qE03mhKPRq9Ozfg3n5XMbxps4phGwq11rCNOLutWDenZ6FfN3rF1ArmO57Nk2d02tlyOaTOY-XA9v80xSHgcDCWxsNqIB18GDGnIzgtKEm5-9RzeeqQQ7A-V7ulUzhICNRU_zRWJp8lCIAPfqCIXDFjkhHJ0CVznZ9-7ATz7IQHmtRWv_-guGFfq_OYLbkjZJ0eqrNZGgQTyAlpLvQ-4Ffc8WxqWbFmzFJPgWXkWxCpqRi8_PRRgUrkNv8vlPqSn8vtBt2s1g3V00.RgNtotcpfdWLDaWS-uxHcxWnvNtiKe2YE4D2E4v8VAQ&dib_tag=se&keywords=mobiles&qid=1711879932&s=electronics&sprefix=mobiles%2Celectronics%2C450&sr=1-26'},\n",
       " {'link': '/iQOO-Stellar-Snapdragon-Segment-Included/dp/B07WHSR1NR/ref=sr_1_27?crid=3I0VUVMSH9AY5&dib=eyJ2IjoiMSJ9.Zq0Y7G2Dd8-IZ16QAD15i-PI_4BxV9qE03mhKPRq9Ozfg3n5XMbxps4phGwq11rCNOLutWDenZ6FfN3rF1ArmO57Nk2d02tlyOaTOY-XA9v80xSHgcDCWxsNqIB18GDGnIzgtKEm5-9RzeeqQQ7A-V7ulUzhICNRU_zRWJp8lCIAPfqCIXDFjkhHJ0CVznZ9-7ATz7IQHmtRWv_-guGFfq_OYLbkjZJ0eqrNZGgQTyAlpLvQ-4Ffc8WxqWbFmzFJPgWXkWxCpqRi8_PRRgUrkNv8vlPqSn8vtBt2s1g3V00.RgNtotcpfdWLDaWS-uxHcxWnvNtiKe2YE4D2E4v8VAQ&dib_tag=se&keywords=mobiles&qid=1711879932&s=electronics&sprefix=mobiles%2Celectronics%2C450&sr=1-27'},\n",
       " {'link': '/OnePlus-Nord-Chromatic-128GB-Storage/dp/B0BY8MCQ9S/ref=sr_1_28?crid=3I0VUVMSH9AY5&dib=eyJ2IjoiMSJ9.Zq0Y7G2Dd8-IZ16QAD15i-PI_4BxV9qE03mhKPRq9Ozfg3n5XMbxps4phGwq11rCNOLutWDenZ6FfN3rF1ArmO57Nk2d02tlyOaTOY-XA9v80xSHgcDCWxsNqIB18GDGnIzgtKEm5-9RzeeqQQ7A-V7ulUzhICNRU_zRWJp8lCIAPfqCIXDFjkhHJ0CVznZ9-7ATz7IQHmtRWv_-guGFfq_OYLbkjZJ0eqrNZGgQTyAlpLvQ-4Ffc8WxqWbFmzFJPgWXkWxCpqRi8_PRRgUrkNv8vlPqSn8vtBt2s1g3V00.RgNtotcpfdWLDaWS-uxHcxWnvNtiKe2YE4D2E4v8VAQ&dib_tag=se&keywords=mobiles&qid=1711879932&s=electronics&sprefix=mobiles%2Celectronics%2C450&sr=1-28'},\n",
       " {'link': '/sspa/click?ie=UTF8&spc=MTo3NDYwNDI2MzE0Nzc1MDkwOjE3MTE4Nzk5MzI6c3BfYnRmOjMwMDE1MjgxMjczODUzMjo6MDo6&url=%2FRedmi-Fusion-Storage-Worlds-HyperCharge%2Fdp%2FB0CRQ838Z9%2Fref%3Dsr_1_29_sspa%3Fcrid%3D3I0VUVMSH9AY5%26dib%3DeyJ2IjoiMSJ9.Zq0Y7G2Dd8-IZ16QAD15i-PI_4BxV9qE03mhKPRq9Ozfg3n5XMbxps4phGwq11rCNOLutWDenZ6FfN3rF1ArmO57Nk2d02tlyOaTOY-XA9v80xSHgcDCWxsNqIB18GDGnIzgtKEm5-9RzeeqQQ7A-V7ulUzhICNRU_zRWJp8lCIAPfqCIXDFjkhHJ0CVznZ9-7ATz7IQHmtRWv_-guGFfq_OYLbkjZJ0eqrNZGgQTyAlpLvQ-4Ffc8WxqWbFmzFJPgWXkWxCpqRi8_PRRgUrkNv8vlPqSn8vtBt2s1g3V00.RgNtotcpfdWLDaWS-uxHcxWnvNtiKe2YE4D2E4v8VAQ%26dib_tag%3Dse%26keywords%3Dmobiles%26qid%3D1711879932%26s%3Delectronics%26sprefix%3Dmobiles%252Celectronics%252C450%26sr%3D1-29-spons%26sp_csd%3Dd2lkZ2V0TmFtZT1zcF9idGY%26psc%3D1'},\n",
       " {'link': '/sspa/click?ie=UTF8&spc=MTo3NDYwNDI2MzE0Nzc1MDkwOjE3MTE4Nzk5MzI6c3BfYnRmOjMwMDEwNzkzNzEwMDgzMjo6MDo6&url=%2FRedmi-Startrail-Storage-MediaTek-Dimensity%2Fdp%2FB0CNX6WVG5%2Fref%3Dsr_1_30_sspa%3Fcrid%3D3I0VUVMSH9AY5%26dib%3DeyJ2IjoiMSJ9.Zq0Y7G2Dd8-IZ16QAD15i-PI_4BxV9qE03mhKPRq9Ozfg3n5XMbxps4phGwq11rCNOLutWDenZ6FfN3rF1ArmO57Nk2d02tlyOaTOY-XA9v80xSHgcDCWxsNqIB18GDGnIzgtKEm5-9RzeeqQQ7A-V7ulUzhICNRU_zRWJp8lCIAPfqCIXDFjkhHJ0CVznZ9-7ATz7IQHmtRWv_-guGFfq_OYLbkjZJ0eqrNZGgQTyAlpLvQ-4Ffc8WxqWbFmzFJPgWXkWxCpqRi8_PRRgUrkNv8vlPqSn8vtBt2s1g3V00.RgNtotcpfdWLDaWS-uxHcxWnvNtiKe2YE4D2E4v8VAQ%26dib_tag%3Dse%26keywords%3Dmobiles%26qid%3D1711879932%26s%3Delectronics%26sprefix%3Dmobiles%252Celectronics%252C450%26sr%3D1-30-spons%26sp_csd%3Dd2lkZ2V0TmFtZT1zcF9idGY%26psc%3D1'}]"
      ]
     },
     "execution_count": 11,
     "metadata": {},
     "output_type": "execute_result"
    }
   ],
   "source": [
    "#Step 1. Create a scraper object\n",
    "home_url =\"https://www.amazon.in/s?k=mobiles&i=electronics&crid=3I0VUVMSH9AY5&sprefix=mobiles%2Celectronics%2C450&ref=nb_sb_noss_1\"\n",
    "scraper = Scraper(home_url)\n",
    "#Step 2. define the tags (Target and items are required)\n",
    "target= Tag(cls =\"s-main-slot s-result-list s-search-results sg-row\")\n",
    "items = Tag(cls=\"puis-card-container\")\n",
    "linkTag = Tag(\"a\", cls=\"a-link-normal\", output=\"href\")\n",
    "#Step 3\n",
    "scraper.get_repeating_page_data(target = target, items=items, link=linkTag)"
   ]
  },
  {
   "cell_type": "code",
   "execution_count": null,
   "metadata": {},
   "outputs": [],
   "source": []
  }
 ],
 "metadata": {
  "kernelspec": {
   "display_name": "Python 3",
   "language": "python",
   "name": "python3"
  },
  "language_info": {
   "codemirror_mode": {
    "name": "ipython",
    "version": 3
   },
   "file_extension": ".py",
   "mimetype": "text/x-python",
   "name": "python",
   "nbconvert_exporter": "python",
   "pygments_lexer": "ipython3",
   "version": "3.12.0"
  }
 },
 "nbformat": 4,
 "nbformat_minor": 2
}
