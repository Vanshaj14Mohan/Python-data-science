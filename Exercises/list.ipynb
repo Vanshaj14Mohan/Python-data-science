{
 "cells": [
  {
   "cell_type": "markdown",
   "metadata": {},
   "source": [
    "# 1. Create an empty list and then asks the user to input integers to add to the list. Print final list"
   ]
  },
  {
   "cell_type": "code",
   "execution_count": 4,
   "metadata": {},
   "outputs": [
    {
     "name": "stdout",
     "output_type": "stream",
     "text": [
      "[10, 20, 30, 40]\n"
     ]
    }
   ],
   "source": [
    "num1 = int(input(\"enter number one\"))\n",
    "num2 = int(input(\"enter number two\"))\n",
    "num3 = int(input(\"enter number three\"))\n",
    "num4 = int(input(\"enter number four\"))\n",
    "list = []\n",
    "list.append(num1)\n",
    "list.append(num2)\n",
    "list.append(num3)\n",
    "list.append(num4)\n",
    "print(list)\n",
    "\n"
   ]
  },
  {
   "cell_type": "markdown",
   "metadata": {},
   "source": [
    "# 2. Program to create a list of strings and then sorts the list alphabetically. Print sorted list"
   ]
  },
  {
   "cell_type": "code",
   "execution_count": 7,
   "metadata": {},
   "outputs": [
    {
     "name": "stdout",
     "output_type": "stream",
     "text": [
      "['Adam', 'Black', 'Hina', 'Mitshua', 'Nobara', 'Purple', 'Taki', 'Vanish', 'Zeke']\n"
     ]
    }
   ],
   "source": [
    "random = [\"Vanish\", \"Adam\", \"Zeke\", \"Nobara\", \"Hina\", \"Taki\", \"Mitshua\", \"Black\", \"Purple\"]\n",
    "random.sort()\n",
    "print(random)"
   ]
  },
  {
   "cell_type": "markdown",
   "metadata": {},
   "source": [
    "# 3. Program to create a list of integers and then calculate their average of all numbers in the list. Print the result"
   ]
  },
  {
   "cell_type": "code",
   "execution_count": 6,
   "metadata": {},
   "outputs": [
    {
     "name": "stdout",
     "output_type": "stream",
     "text": [
      "4.0\n"
     ]
    }
   ],
   "source": [
    "num = [10, 20, 25, 30, 50, 12, 15, 80]\n",
    "print(len(num)/2)"
   ]
  },
  {
   "cell_type": "markdown",
   "metadata": {},
   "source": [
    "# 4. Program to create a list of integers and then sort them in ascending order, print the result."
   ]
  },
  {
   "cell_type": "code",
   "execution_count": 7,
   "metadata": {},
   "outputs": [
    {
     "name": "stdout",
     "output_type": "stream",
     "text": [
      "[98, 95, 94, 88, 70, 30, 25, 24, 22, 20, 10]\n"
     ]
    }
   ],
   "source": [
    "rev = [10, 24, 25, 30, 98, 88, 70, 95, 20, 22, 94]\n",
    "rev.sort(reverse=True)\n",
    "print(rev)"
   ]
  },
  {
   "cell_type": "code",
   "execution_count": null,
   "metadata": {},
   "outputs": [],
   "source": []
  }
 ],
 "metadata": {
  "kernelspec": {
   "display_name": "Python 3",
   "language": "python",
   "name": "python3"
  },
  "language_info": {
   "codemirror_mode": {
    "name": "ipython",
    "version": 3
   },
   "file_extension": ".py",
   "mimetype": "text/x-python",
   "name": "python",
   "nbconvert_exporter": "python",
   "pygments_lexer": "ipython3",
   "version": "3.12.0"
  }
 },
 "nbformat": 4,
 "nbformat_minor": 2
}
