{
 "cells": [
  {
   "cell_type": "markdown",
   "metadata": {},
   "source": [
    "# 1. Create an empty list and then asks the user to input integers to add to the list. Print final list"
   ]
  },
  {
   "cell_type": "code",
   "execution_count": 4,
   "metadata": {},
   "outputs": [
    {
     "name": "stdout",
     "output_type": "stream",
     "text": [
      "[10, 20, 30, 40]\n"
     ]
    }
   ],
   "source": [
    "num1 = int(input(\"enter number one\"))\n",
    "num2 = int(input(\"enter number two\"))\n",
    "num3 = int(input(\"enter number three\"))\n",
    "num4 = int(input(\"enter number four\"))\n",
    "list = []\n",
    "list.append(num1)\n",
    "list.append(num2)\n",
    "list.append(num3)\n",
    "list.append(num4)\n",
    "print(list)\n",
    "\n"
   ]
  },
  {
   "cell_type": "markdown",
   "metadata": {},
   "source": [
    "# 2. Program to create a list of strings and then sorts the list alphabetically. Print sorted list"
   ]
  },
  {
   "cell_type": "code",
   "execution_count": 7,
   "metadata": {},
   "outputs": [
    {
     "name": "stdout",
     "output_type": "stream",
     "text": [
      "['Adam', 'Black', 'Hina', 'Mitshua', 'Nobara', 'Purple', 'Taki', 'Vanish', 'Zeke']\n"
     ]
    }
   ],
   "source": [
    "random = [\"Vanish\", \"Adam\", \"Zeke\", \"Nobara\", \"Hina\", \"Taki\", \"Mitshua\", \"Black\", \"Purple\"]\n",
    "random.sort()\n",
    "print(random)"
   ]
  },
  {
   "cell_type": "markdown",
   "metadata": {},
   "source": [
    "# 3. Program to create a list of integers and then calculate their average of all numbers in the list. Print the result"
   ]
  },
  {
   "cell_type": "code",
   "execution_count": 6,
   "metadata": {},
   "outputs": [
    {
     "name": "stdout",
     "output_type": "stream",
     "text": [
      "4.0\n"
     ]
    }
   ],
   "source": [
    "num = [10, 20, 25, 30, 50, 12, 15, 80]\n",
    "print(len(num)/2)"
   ]
  },
  {
   "cell_type": "markdown",
   "metadata": {},
   "source": [
    "# 4. Program to create a list of integers and then sort them in descending order, print the result."
   ]
  },
  {
   "cell_type": "code",
   "execution_count": 7,
   "metadata": {},
   "outputs": [
    {
     "name": "stdout",
     "output_type": "stream",
     "text": [
      "[98, 95, 94, 88, 70, 30, 25, 24, 22, 20, 10]\n"
     ]
    }
   ],
   "source": [
    "rev = [10, 24, 25, 30, 98, 88, 70, 95, 20, 22, 94]\n",
    "rev.sort(reverse=True)\n",
    "print(rev)"
   ]
  },
  {
   "cell_type": "markdown",
   "metadata": {},
   "source": [
    "# 5. Program to create a list of strings and then concatenates all the strings into a single string. Print final string."
   ]
  },
  {
   "cell_type": "code",
   "execution_count": 2,
   "metadata": {},
   "outputs": [
    {
     "name": "stdout",
     "output_type": "stream",
     "text": [
      "[1, 2, 3, 4, 5, 6, 7, 8, 9, 10]\n"
     ]
    }
   ],
   "source": [
    "s1 = [1,2,3,4,5]\n",
    "s2 =[6,7,8,9,10]\n",
    "s3 = s1+s2\n",
    "print(s3)"
   ]
  },
  {
   "cell_type": "markdown",
   "metadata": {},
   "source": [
    "# 6. Program to create a list of integers and then find the median value of it. Print the median."
   ]
  },
  {
   "cell_type": "code",
   "execution_count": 7,
   "metadata": {},
   "outputs": [
    {
     "name": "stdout",
     "output_type": "stream",
     "text": [
      "8\n",
      "40\n"
     ]
    }
   ],
   "source": [
    "list = [10, 20, 30, 40,\"apple\", \"banana\", \"orange\", 50]\n",
    "print(len(list))\n",
    "print(list[3])"
   ]
  },
  {
   "cell_type": "markdown",
   "metadata": {},
   "source": [
    "# 7. Program to create a list of strings and reverse it's order and then print it."
   ]
  },
  {
   "cell_type": "code",
   "execution_count": 8,
   "metadata": {},
   "outputs": [
    {
     "name": "stdout",
     "output_type": "stream",
     "text": [
      "['Today', 'Out', 'Go', 'To', 'Day', 'Good', 'A']\n"
     ]
    }
   ],
   "source": [
    "reverse = [\"A\", \"Good\", \"Day\", \"To\", \"Go\", \"Out\", \"Today\"]\n",
    "print(reverse[::-1])"
   ]
  },
  {
   "cell_type": "markdown",
   "metadata": {},
   "source": [
    "# 8. Program to create a list of integers and then find index of specific element in list. Print it's index"
   ]
  },
  {
   "cell_type": "code",
   "execution_count": 14,
   "metadata": {},
   "outputs": [
    {
     "name": "stdout",
     "output_type": "stream",
     "text": [
      "The index of element 20 is: 1\n"
     ]
    }
   ],
   "source": [
    "find = [10, 20, 30, 40]\n",
    "found = 20\n",
    "index_find = find.index(found)\n",
    "print(f\"The index of element {found} is: {index_find}\")"
   ]
  },
  {
   "cell_type": "code",
   "execution_count": null,
   "metadata": {},
   "outputs": [],
   "source": []
  }
 ],
 "metadata": {
  "kernelspec": {
   "display_name": "Python 3",
   "language": "python",
   "name": "python3"
  },
  "language_info": {
   "codemirror_mode": {
    "name": "ipython",
    "version": 3
   },
   "file_extension": ".py",
   "mimetype": "text/x-python",
   "name": "python",
   "nbconvert_exporter": "python",
   "pygments_lexer": "ipython3",
   "version": "3.12.0"
  }
 },
 "nbformat": 4,
 "nbformat_minor": 2
}
