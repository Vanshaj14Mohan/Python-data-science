{
 "cells": [
  {
   "cell_type": "markdown",
   "metadata": {},
   "source": [
    "### Data structures\n",
    "- list\n",
    "  - mutable, ordered, duplicates allowed, list(), [ ]\n",
    "- tuple\n",
    "  - immutable, ordered, duplicates allowed, tuple(), ( )\n",
    "- set\n",
    "  - mutable, unordered, no duplicates (unique elements), set() , {}\n",
    "- dictionary\n",
    "  - mutable, ordered, no duplicates keys(unique keys), dict(), {k:v}"
   ]
  },
  {
   "cell_type": "markdown",
   "metadata": {},
   "source": [
    "## 1. creation\n"
   ]
  },
  {
   "cell_type": "code",
   "execution_count": 1,
   "metadata": {},
   "outputs": [
    {
     "name": "stdout",
     "output_type": "stream",
     "text": [
      "[10, 20, 30, 'apple'] <class 'list'>\n",
      "(1, 2, 3, 4, 5, 'mango', 'grapes', 5) <class 'tuple'>\n",
      "{1, 2, 4, 5, 6, 'banana'} <class 'set'>\n",
      "{'name': 'john', 'age': 20, 'gender': 'male'} <class 'dict'>\n"
     ]
    }
   ],
   "source": [
    "x1 =[10, 20, 30 , \"apple\"]\n",
    "print(x1, type(x1))\n",
    "x2 =(1, 2, 3, 4, 5, \"mango\", \"grapes\", 5)\n",
    "print(x2, type(x2))\n",
    "x3 = {1, 2, 4, 5, 6, 2, \"banana\"}\n",
    "print(x3, type(x3))\n",
    "x4 = {\"name\": \"john\", \"age\": 20, \"gender\": \"male\"}\n",
    "print(x4, type(x4))"
   ]
  },
  {
   "cell_type": "markdown",
   "metadata": {},
   "source": [
    "## 2. Accessing elements"
   ]
  },
  {
   "cell_type": "code",
   "execution_count": 4,
   "metadata": {},
   "outputs": [
    {
     "name": "stdout",
     "output_type": "stream",
     "text": [
      "Getting elements from list:\n",
      "first element: 10\n",
      "second element: 20\n",
      "last element: apple\n",
      "--------------------\n",
      "Getting elements from tuple:\n",
      "first element: 1\n",
      "second element: 2\n",
      "third element: 3\n",
      "last element: 5\n",
      "--------------------\n",
      "Getting items from set\n",
      "⚠ We cannot, as sets are unordered\n",
      "--------------------\n",
      "Getting items from dictionary\n",
      "Name john\n",
      "Age 20\n",
      "Gender male\n",
      "Quantity None\n",
      "--------------------\n"
     ]
    }
   ],
   "source": [
    "print(\"Getting elements from list:\")\n",
    "print(\"first element:\", x1[0])\n",
    "print(\"second element:\", x1[1])\n",
    "print(\"last element:\", x1[-1])\n",
    "print(\"--\" *10)\n",
    "print(\"Getting elements from tuple:\")\n",
    "print(\"first element:\", x2[0])\n",
    "print(\"second element:\", x2[1])\n",
    "print(\"third element:\", x2[2])\n",
    "print(\"last element:\", x2[-1])\n",
    "print(\"--\" *10)\n",
    "print(\"Getting items from set\")\n",
    "print(\"⚠ We cannot, as sets are unordered\")\n",
    "print(\"--\" *10)\n",
    "print(\"Getting items from dictionary\")\n",
    "print(\"Name\", x4[\"name\"]) #normal way\n",
    "print(\"Age\",x4[\"age\"])\n",
    "print(\"Gender\",x4[\"gender\"])\n",
    "print(\"Quantity\", x4.get(\"qty\")) # better way\n",
    "print(\"--\" *10)"
   ]
  },
  {
   "cell_type": "markdown",
   "metadata": {},
   "source": [
    "## 3. Updating elements:"
   ]
  },
  {
   "cell_type": "code",
   "execution_count": 2,
   "metadata": {},
   "outputs": [
    {
     "name": "stdout",
     "output_type": "stream",
     "text": [
      "changing values in list\n",
      "[100, 20, 30, 'apple']\n",
      "[100, 20, 30, 'green']\n",
      "--------------------\n",
      "changing values in tuple\n",
      "We cannot, as tuples are immutable\n",
      "--------------------\n",
      "changing values in set\n",
      "We cannot as sets are unordered\n",
      "--------------------\n",
      "changing values in dictionary\n",
      "{'name': 'James', 'age': 20, 'gender': 'male'}\n",
      "{'name': 'James', 'age': 22, 'gender': 'male'}\n",
      "{'name': 'James', 'age': 22, 'gender': 'male', 'weight': 60}\n"
     ]
    }
   ],
   "source": [
    "print(\"changing values in list\")\n",
    "x1[0] = 100\n",
    "print(x1)\n",
    "x1[-1] = \"green\"\n",
    "print(x1)\n",
    "print(\"--\" *10)\n",
    "print(\"changing values in tuple\")\n",
    "print(\"We cannot, as tuples are immutable\")\n",
    "print(\"--\" *10)\n",
    "print(\"changing values in set\")\n",
    "print(\"We cannot as sets are unordered\")\n",
    "print(\"--\" *10)\n",
    "print(\"changing values in dictionary\")\n",
    "x4[\"name\"] =\"James\"\n",
    "print(x4)\n",
    "x4[\"age\"]  = 22\n",
    "print(x4)\n",
    "x4[\"weight\"] = 60\n",
    "print(x4)\n"
   ]
  },
  {
   "cell_type": "markdown",
   "metadata": {},
   "source": [
    "# Extra work from home.\n"
   ]
  },
  {
   "cell_type": "code",
   "execution_count": 8,
   "metadata": {},
   "outputs": [],
   "source": [
    "def cheese_and_crackers(cheese_count, boxes_of_crackers):\n",
    "    print(f\"You have {cheese_count} cheeses!\")\n",
    "    print(f\"You have {boxes_of_crackers} boxes of crackers\")\n",
    "    print(f\"Man that's enough for the party\")\n",
    "    print(f\"Get a blanket.\\n\")"
   ]
  },
  {
   "cell_type": "code",
   "execution_count": 5,
   "metadata": {},
   "outputs": [
    {
     "name": "stdout",
     "output_type": "stream",
     "text": [
      "You have 20 cheeses!\n",
      "You have 30 boxes of crackers\n",
      "Man that's enough for the party\n",
      "Get a blanket.\n",
      "\n"
     ]
    }
   ],
   "source": [
    "cheese_and_crackers(20, 30) #Giving functions numbers directly. Method 1"
   ]
  },
  {
   "cell_type": "code",
   "execution_count": 10,
   "metadata": {},
   "outputs": [
    {
     "name": "stdout",
     "output_type": "stream",
     "text": [
      "You have 20 cheeses!\n",
      "You have 40 boxes of crackers\n",
      "Man that's enough for the party\n",
      "Get a blanket.\n",
      "\n"
     ]
    }
   ],
   "source": [
    "amount_of_cheese = 20  #Using variables from our script. Method 2\n",
    "amount_of_crackers = 40\n",
    "cheese_and_crackers(amount_of_cheese, amount_of_crackers) "
   ]
  },
  {
   "cell_type": "code",
   "execution_count": 11,
   "metadata": {},
   "outputs": [
    {
     "name": "stdout",
     "output_type": "stream",
     "text": [
      "You have 30 cheeses!\n",
      "You have 50 boxes of crackers\n",
      "Man that's enough for the party\n",
      "Get a blanket.\n",
      "\n"
     ]
    }
   ],
   "source": [
    "#Doing some maths in them too. Method 3\n",
    "cheese_and_crackers(20+10, 40+10 )"
   ]
  },
  {
   "cell_type": "code",
   "execution_count": 12,
   "metadata": {},
   "outputs": [
    {
     "name": "stdout",
     "output_type": "stream",
     "text": [
      "You have 120 cheeses!\n",
      "You have 90 boxes of crackers\n",
      "Man that's enough for the party\n",
      "Get a blanket.\n",
      "\n"
     ]
    }
   ],
   "source": [
    "#Combining two variable and math. Method 4\n",
    "cheese_and_crackers(amount_of_cheese + 100, amount_of_crackers + 50)"
   ]
  },
  {
   "cell_type": "markdown",
   "metadata": {},
   "source": [
    "# Own exercise\n"
   ]
  },
  {
   "cell_type": "code",
   "execution_count": 1,
   "metadata": {},
   "outputs": [],
   "source": [
    "def bread_and_eggs(bread_count, eggs_bucket):\n",
    "    print(f\"You have {bread_count} bread\")\n",
    "    print(f\"You have {eggs_bucket} eggs\")\n",
    "    print(f\"Enough for the breakfast\")\n",
    "    print(f\"Put that in a carrybag.\\n\")"
   ]
  },
  {
   "cell_type": "code",
   "execution_count": 2,
   "metadata": {},
   "outputs": [
    {
     "name": "stdout",
     "output_type": "stream",
     "text": [
      "You have 20 bread\n",
      "You have 30 eggs\n",
      "Enough for the breakfast\n",
      "Put that in a carrybag.\n",
      "\n"
     ]
    }
   ],
   "source": [
    "bread_and_eggs(20,30)"
   ]
  },
  {
   "cell_type": "code",
   "execution_count": 3,
   "metadata": {},
   "outputs": [],
   "source": [
    "amount_of_bread = 10\n",
    "amount_of_eggs = 20"
   ]
  },
  {
   "cell_type": "code",
   "execution_count": 4,
   "metadata": {},
   "outputs": [
    {
     "name": "stdout",
     "output_type": "stream",
     "text": [
      "You have 10 bread\n",
      "You have 20 eggs\n",
      "Enough for the breakfast\n",
      "Put that in a carrybag.\n",
      "\n"
     ]
    }
   ],
   "source": [
    "bread_and_eggs(amount_of_bread, amount_of_eggs)"
   ]
  },
  {
   "cell_type": "code",
   "execution_count": 5,
   "metadata": {},
   "outputs": [
    {
     "name": "stdout",
     "output_type": "stream",
     "text": [
      "You have 30 bread\n",
      "You have 20 eggs\n",
      "Enough for the breakfast\n",
      "Put that in a carrybag.\n",
      "\n"
     ]
    }
   ],
   "source": [
    "bread_and_eggs(20+10, 10+10)"
   ]
  },
  {
   "cell_type": "code",
   "execution_count": 6,
   "metadata": {},
   "outputs": [
    {
     "name": "stdout",
     "output_type": "stream",
     "text": [
      "You have 50 bread\n",
      "You have 50 eggs\n",
      "Enough for the breakfast\n",
      "Put that in a carrybag.\n",
      "\n"
     ]
    }
   ],
   "source": [
    "bread_and_eggs(amount_of_bread + 40, amount_of_eggs + 30)"
   ]
  },
  {
   "cell_type": "code",
   "execution_count": null,
   "metadata": {},
   "outputs": [],
   "source": []
  }
 ],
 "metadata": {
  "kernelspec": {
   "display_name": "Python 3",
   "language": "python",
   "name": "python3"
  },
  "language_info": {
   "codemirror_mode": {
    "name": "ipython",
    "version": 3
   },
   "file_extension": ".py",
   "mimetype": "text/x-python",
   "name": "python",
   "nbconvert_exporter": "python",
   "pygments_lexer": "ipython3",
   "version": "3.12.0"
  }
 },
 "nbformat": 4,
 "nbformat_minor": 2
}
