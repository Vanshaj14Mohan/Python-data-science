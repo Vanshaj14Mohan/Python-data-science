{
 "cells": [
  {
   "cell_type": "markdown",
   "metadata": {},
   "source": [
    "### Data structures\n",
    "- list\n",
    "  - mutable, ordered, duplicates allowed, list(), [ ]\n",
    "- tuple\n",
    "  - immutable, ordered, duplicates allowed, tuple(), ( )\n",
    "- set\n",
    "  - mutable, unordered, no duplicates (unique elements), set() , {}\n",
    "- dictionary\n",
    "  - mutable, ordered, no duplicates keys(unique keys), dict(), {k:v}"
   ]
  },
  {
   "cell_type": "markdown",
   "metadata": {},
   "source": [
    "## 1. Creation\n"
   ]
  },
  {
   "cell_type": "code",
   "execution_count": 1,
   "metadata": {},
   "outputs": [
    {
     "name": "stdout",
     "output_type": "stream",
     "text": [
      "[10, 20, 30, 'apple'] <class 'list'>\n",
      "(1, 2, 3, 4, 5, 'mango', 'grapes', 5) <class 'tuple'>\n",
      "{1, 2, 4, 5, 6, 'banana'} <class 'set'>\n",
      "{'name': 'john', 'age': 20, 'gender': 'male'} <class 'dict'>\n"
     ]
    }
   ],
   "source": [
    "x1 =[10, 20, 30 , \"apple\"]\n",
    "print(x1, type(x1))\n",
    "x2 =(1, 2, 3, 4, 5, \"mango\", \"grapes\", 5)\n",
    "print(x2, type(x2))\n",
    "x3 = {1, 2, 4, 5, 6, 2, \"banana\"}\n",
    "print(x3, type(x3))\n",
    "x4 = {\"name\": \"john\", \"age\": 20, \"gender\": \"male\"}\n",
    "print(x4, type(x4))"
   ]
  },
  {
   "cell_type": "markdown",
   "metadata": {},
   "source": [
    "## 2. Accessing elements"
   ]
  },
  {
   "cell_type": "code",
   "execution_count": 4,
   "metadata": {},
   "outputs": [
    {
     "name": "stdout",
     "output_type": "stream",
     "text": [
      "Getting elements from list:\n",
      "first element: 10\n",
      "second element: 20\n",
      "last element: apple\n",
      "--------------------\n",
      "Getting elements from tuple:\n",
      "first element: 1\n",
      "second element: 2\n",
      "third element: 3\n",
      "last element: 5\n",
      "--------------------\n",
      "Getting items from set\n",
      "⚠ We cannot, as sets are unordered\n",
      "--------------------\n",
      "Getting items from dictionary\n",
      "Name john\n",
      "Age 20\n",
      "Gender male\n",
      "Quantity None\n",
      "--------------------\n"
     ]
    }
   ],
   "source": [
    "print(\"Getting elements from list:\")\n",
    "print(\"first element:\", x1[0])\n",
    "print(\"second element:\", x1[1])\n",
    "print(\"last element:\", x1[-1])\n",
    "print(\"--\" *10)\n",
    "print(\"Getting elements from tuple:\")\n",
    "print(\"first element:\", x2[0])\n",
    "print(\"second element:\", x2[1])\n",
    "print(\"third element:\", x2[2])\n",
    "print(\"last element:\", x2[-1])\n",
    "print(\"--\" *10)\n",
    "print(\"Getting items from set\")\n",
    "print(\"⚠ We cannot, as sets are unordered\")\n",
    "print(\"--\" *10)\n",
    "print(\"Getting items from dictionary\")\n",
    "print(\"Name\", x4[\"name\"]) #normal way\n",
    "print(\"Age\",x4[\"age\"])\n",
    "print(\"Gender\",x4[\"gender\"])\n",
    "print(\"Quantity\", x4.get(\"qty\")) # better way\n",
    "print(\"--\" *10)"
   ]
  },
  {
   "cell_type": "markdown",
   "metadata": {},
   "source": [
    "## 3. Updating elements"
   ]
  },
  {
   "cell_type": "code",
   "execution_count": 2,
   "metadata": {},
   "outputs": [
    {
     "name": "stdout",
     "output_type": "stream",
     "text": [
      "changing values in list\n",
      "[100, 20, 30, 'apple']\n",
      "[100, 20, 30, 'green']\n",
      "--------------------\n",
      "changing values in tuple\n",
      "We cannot, as tuples are immutable\n",
      "--------------------\n",
      "changing values in set\n",
      "We cannot as sets are unordered\n",
      "--------------------\n",
      "changing values in dictionary\n",
      "{'name': 'James', 'age': 20, 'gender': 'male'}\n",
      "{'name': 'James', 'age': 22, 'gender': 'male'}\n",
      "{'name': 'James', 'age': 22, 'gender': 'male', 'weight': 60}\n"
     ]
    }
   ],
   "source": [
    "print(\"changing values in list\")\n",
    "x1[0] = 100\n",
    "print(x1)\n",
    "x1[-1] = \"green\"\n",
    "print(x1)\n",
    "print(\"--\" *10)\n",
    "print(\"changing values in tuple\")\n",
    "print(\"We cannot, as tuples are immutable\")\n",
    "print(\"--\" *10)\n",
    "print(\"changing values in set\")\n",
    "print(\"We cannot as sets are unordered\")\n",
    "print(\"--\" *10)\n",
    "print(\"changing values in dictionary\")\n",
    "x4[\"name\"] =\"James\"\n",
    "print(x4)\n",
    "x4[\"age\"]  = 22\n",
    "print(x4)\n",
    "x4[\"weight\"] = 60\n",
    "print(x4)\n"
   ]
  },
  {
   "cell_type": "markdown",
   "metadata": {},
   "source": [
    "# Extra work from home:\n"
   ]
  },
  {
   "cell_type": "code",
   "execution_count": 8,
   "metadata": {},
   "outputs": [],
   "source": [
    "def cheese_and_crackers(cheese_count, boxes_of_crackers):\n",
    "    print(f\"You have {cheese_count} cheeses!\")\n",
    "    print(f\"You have {boxes_of_crackers} boxes of crackers\")\n",
    "    print(f\"Man that's enough for the party\")\n",
    "    print(f\"Get a blanket.\\n\")"
   ]
  },
  {
   "cell_type": "code",
   "execution_count": 5,
   "metadata": {},
   "outputs": [
    {
     "name": "stdout",
     "output_type": "stream",
     "text": [
      "You have 20 cheeses!\n",
      "You have 30 boxes of crackers\n",
      "Man that's enough for the party\n",
      "Get a blanket.\n",
      "\n"
     ]
    }
   ],
   "source": [
    "cheese_and_crackers(20, 30) #Giving functions numbers directly. Method 1"
   ]
  },
  {
   "cell_type": "code",
   "execution_count": 10,
   "metadata": {},
   "outputs": [
    {
     "name": "stdout",
     "output_type": "stream",
     "text": [
      "You have 20 cheeses!\n",
      "You have 40 boxes of crackers\n",
      "Man that's enough for the party\n",
      "Get a blanket.\n",
      "\n"
     ]
    }
   ],
   "source": [
    "amount_of_cheese = 20  #Using variables from our script. Method 2\n",
    "amount_of_crackers = 40\n",
    "cheese_and_crackers(amount_of_cheese, amount_of_crackers) "
   ]
  },
  {
   "cell_type": "code",
   "execution_count": 11,
   "metadata": {},
   "outputs": [
    {
     "name": "stdout",
     "output_type": "stream",
     "text": [
      "You have 30 cheeses!\n",
      "You have 50 boxes of crackers\n",
      "Man that's enough for the party\n",
      "Get a blanket.\n",
      "\n"
     ]
    }
   ],
   "source": [
    "#Doing some maths in them too. Method 3\n",
    "cheese_and_crackers(20+10, 40+10 )"
   ]
  },
  {
   "cell_type": "code",
   "execution_count": 12,
   "metadata": {},
   "outputs": [
    {
     "name": "stdout",
     "output_type": "stream",
     "text": [
      "You have 120 cheeses!\n",
      "You have 90 boxes of crackers\n",
      "Man that's enough for the party\n",
      "Get a blanket.\n",
      "\n"
     ]
    }
   ],
   "source": [
    "#Combining two variable and math. Method 4\n",
    "cheese_and_crackers(amount_of_cheese + 100, amount_of_crackers + 50)"
   ]
  },
  {
   "cell_type": "markdown",
   "metadata": {},
   "source": [
    "# Own exercise:\n"
   ]
  },
  {
   "cell_type": "code",
   "execution_count": 1,
   "metadata": {},
   "outputs": [],
   "source": [
    "def bread_and_eggs(bread_count, eggs_bucket):\n",
    "    print(f\"You have {bread_count} bread\")\n",
    "    print(f\"You have {eggs_bucket} eggs\")\n",
    "    print(f\"Enough for the breakfast\")\n",
    "    print(f\"Put that in a carrybag.\\n\")"
   ]
  },
  {
   "cell_type": "code",
   "execution_count": 2,
   "metadata": {},
   "outputs": [
    {
     "name": "stdout",
     "output_type": "stream",
     "text": [
      "You have 20 bread\n",
      "You have 30 eggs\n",
      "Enough for the breakfast\n",
      "Put that in a carrybag.\n",
      "\n"
     ]
    }
   ],
   "source": [
    "bread_and_eggs(20,30)"
   ]
  },
  {
   "cell_type": "code",
   "execution_count": 3,
   "metadata": {},
   "outputs": [],
   "source": [
    "amount_of_bread = 10\n",
    "amount_of_eggs = 20"
   ]
  },
  {
   "cell_type": "code",
   "execution_count": 4,
   "metadata": {},
   "outputs": [
    {
     "name": "stdout",
     "output_type": "stream",
     "text": [
      "You have 10 bread\n",
      "You have 20 eggs\n",
      "Enough for the breakfast\n",
      "Put that in a carrybag.\n",
      "\n"
     ]
    }
   ],
   "source": [
    "bread_and_eggs(amount_of_bread, amount_of_eggs)"
   ]
  },
  {
   "cell_type": "code",
   "execution_count": 5,
   "metadata": {},
   "outputs": [
    {
     "name": "stdout",
     "output_type": "stream",
     "text": [
      "You have 30 bread\n",
      "You have 20 eggs\n",
      "Enough for the breakfast\n",
      "Put that in a carrybag.\n",
      "\n"
     ]
    }
   ],
   "source": [
    "bread_and_eggs(20+10, 10+10)"
   ]
  },
  {
   "cell_type": "code",
   "execution_count": 6,
   "metadata": {},
   "outputs": [
    {
     "name": "stdout",
     "output_type": "stream",
     "text": [
      "You have 50 bread\n",
      "You have 50 eggs\n",
      "Enough for the breakfast\n",
      "Put that in a carrybag.\n",
      "\n"
     ]
    }
   ],
   "source": [
    "bread_and_eggs(amount_of_bread + 40, amount_of_eggs + 30)"
   ]
  },
  {
   "cell_type": "markdown",
   "metadata": {},
   "source": [
    "# 4. Adding elements\n"
   ]
  },
  {
   "cell_type": "code",
   "execution_count": 7,
   "metadata": {},
   "outputs": [
    {
     "name": "stdout",
     "output_type": "stream",
     "text": [
      "[1, 2, 3, 10]\n",
      "[1, 100, 2, 3, 10]\n"
     ]
    }
   ],
   "source": [
    "#list\n",
    "x =[1,2,3]\n",
    "x.append(10)\n",
    "print(x)\n",
    "x.insert(1,100)\n",
    "print(x)"
   ]
  },
  {
   "cell_type": "code",
   "execution_count": 8,
   "metadata": {},
   "outputs": [
    {
     "name": "stdout",
     "output_type": "stream",
     "text": [
      "{'apple', 'cherry', 'dragonfruit', 'banana'}\n"
     ]
    }
   ],
   "source": [
    "#set\n",
    "a ={'apple', 'banana', 'cherry'}\n",
    "a.add('dragonfruit')\n",
    "print(a)"
   ]
  },
  {
   "cell_type": "code",
   "execution_count": 9,
   "metadata": {},
   "outputs": [
    {
     "name": "stdout",
     "output_type": "stream",
     "text": [
      "{'name': 'raju', 'school': 'cms'}\n"
     ]
    }
   ],
   "source": [
    "#dict\n",
    "b ={'name': 'raju'}\n",
    "b['school'] ='cms' #dding key and value\n",
    "print(b)"
   ]
  },
  {
   "cell_type": "markdown",
   "metadata": {},
   "source": [
    "# 5. Removing elements\n"
   ]
  },
  {
   "cell_type": "code",
   "execution_count": 10,
   "metadata": {},
   "outputs": [
    {
     "name": "stdout",
     "output_type": "stream",
     "text": [
      "[1, 100, 2, 3, 10]\n",
      "[1, 2, 3, 10]\n",
      "[1, 3, 10]\n",
      "[1, 3]\n"
     ]
    }
   ],
   "source": [
    "#list\n",
    "print(x)\n",
    "x.remove(100) #will remove the value 100 from list\n",
    "print(x)\n",
    "x.pop(1) #wil remove the value at index 1\n",
    "print(x)\n",
    "x.pop() #will remove the last value\n",
    "print(x)"
   ]
  },
  {
   "cell_type": "code",
   "execution_count": 11,
   "metadata": {},
   "outputs": [
    {
     "name": "stdout",
     "output_type": "stream",
     "text": [
      "{'apple', 'cherry', 'dragonfruit', 'banana'}\n",
      "{'cherry', 'dragonfruit', 'banana'}\n",
      "{'cherry', 'dragonfruit'}\n"
     ]
    }
   ],
   "source": [
    "#set\n",
    "print(a)\n",
    "a.discard('apple') #better ->does not give error\n",
    "print(a)\n",
    "a.remove('banana')\n",
    "print(a)"
   ]
  },
  {
   "cell_type": "code",
   "execution_count": 12,
   "metadata": {},
   "outputs": [
    {
     "name": "stdout",
     "output_type": "stream",
     "text": [
      "{'name': 'raju', 'school': 'cms'}\n",
      "{'name': 'raju'}\n"
     ]
    }
   ],
   "source": [
    "#dict\n",
    "print(b)\n",
    "b.pop('school')\n",
    "print(b)"
   ]
  },
  {
   "cell_type": "markdown",
   "metadata": {},
   "source": [
    "# 1. create a list of 10 movies, each movie will be added by user\n",
    "# 2. create a tuple of 10 random numbers\n",
    "# 3. create 2 sets of flowers with 10 items each, create empty set as 'f1 =set()', then add data\n",
    "# 4. create a dictionary for storing employee data, there should be 8 key and values"
   ]
  },
  {
   "cell_type": "code",
   "execution_count": 17,
   "metadata": {},
   "outputs": [
    {
     "name": "stdout",
     "output_type": "stream",
     "text": [
      "['nun']\n",
      "['nun', 'conjuring']\n",
      "['nun', 'conjuring', 'The dark night']\n",
      "['nun', 'conjuring', 'The dark night', 'Sunshine']\n",
      "['nun', 'conjuring', 'The dark night', 'Sunshine', 'Halloween']\n",
      "['nun', 'conjuring', 'The dark night', 'Sunshine', 'Halloween', 'Avengers']\n",
      "['nun', 'conjuring', 'The dark night', 'Sunshine', 'Halloween', 'Avengers', 'Puss in boots']\n",
      "['nun', 'conjuring', 'The dark night', 'Sunshine', 'Halloween', 'Avengers', 'Puss in boots', 'See now']\n",
      "['nun', 'conjuring', 'The dark night', 'Sunshine', 'Halloween', 'Avengers', 'Puss in boots', 'See now', 'Black']\n",
      "['nun', 'conjuring', 'The dark night', 'Sunshine', 'Halloween', 'Avengers', 'Puss in boots', 'See now', 'Black', 'Dark']\n"
     ]
    }
   ],
   "source": [
    "#1\n",
    "movie =[]\n",
    "movie.append(\"nun\")\n",
    "print(movie)\n",
    "movie.append(\"conjuring\")\n",
    "print(movie)\n",
    "movie.append(\"The dark night\")\n",
    "print(movie)\n",
    "movie.append(\"Sunshine\")\n",
    "print(movie)\n",
    "movie.append(\"Halloween\")\n",
    "print(movie)\n",
    "movie.append(\"Avengers\")\n",
    "print(movie)\n",
    "movie.append(\"Puss in boots\")\n",
    "print(movie)\n",
    "movie.append(\"See now\")\n",
    "print(movie)\n",
    "movie.append(\"Black\")\n",
    "print(movie)\n",
    "movie.append(\"Dark\")\n",
    "print(movie)"
   ]
  },
  {
   "cell_type": "code",
   "execution_count": 18,
   "metadata": {},
   "outputs": [
    {
     "name": "stdout",
     "output_type": "stream",
     "text": [
      "(1, 2, 3, 4, 5, 6, 7, 8, 9, 10)\n"
     ]
    }
   ],
   "source": [
    "#2\n",
    "random =(1,2,3,4,5,6,7,8,9,10)\n",
    "print(random)"
   ]
  },
  {
   "cell_type": "code",
   "execution_count": 27,
   "metadata": {},
   "outputs": [
    {
     "name": "stdout",
     "output_type": "stream",
     "text": [
      "{'iris', 'marigold', 'lavender', 'sunflower', 'cosmos', 'daisy', 'orchid', 'rose', 'tulip', 'lily'}\n",
      "{'saffron', 'daffodil', 'levy', 'bluebell', 'datura', 'lilac', 'primrose', 'cannabis', 'dahlia', 'jasmine'}\n"
     ]
    }
   ],
   "source": [
    "#3\n",
    "# flower1 ={'rose', 'lily', 'tulip', 'daisy', 'orchid', 'iris', 'lavender', 'sunflower','cosmos', 'marigold'}\n",
    "# flower2 ={'dahlia', 'levy', 'lilac', 'datura', 'primrose', 'daffodil', 'jasmine', 'cannabis', 'bluebell', 'saffron'}\n",
    " # f1 ={}\n",
    "# f1.add('rose')\n",
    "\n",
    "f1 = set()\n",
    "f1.add(\"rose\")\n",
    "f1.add(\"lily\")\n",
    "f1.add(\"tulip\")\n",
    "f1.add(\"iris\")\n",
    "f1.add(\"cosmos\")\n",
    "f1.add(\"marigold\")\n",
    "f1.add(\"daisy\")\n",
    "f1.add(\"lavender\")\n",
    "f1.add(\"orchid\")\n",
    "f1.add(\"sunflower\")\n",
    "print(f1)\n",
    "f2 = set()\n",
    "f2.add(\"levy\")\n",
    "f2.add(\"lilac\")\n",
    "f2.add(\"datura\")\n",
    "f2.add(\"dahlia\")\n",
    "f2.add(\"jasmine\")\n",
    "f2.add(\"bluebell\")\n",
    "f2.add(\"saffron\")\n",
    "f2.add(\"primrose\")\n",
    "f2.add(\"daffodil\")\n",
    "f2.add(\"cannabis\")\n",
    "print(f2)\n"
   ]
  },
  {
   "cell_type": "code",
   "execution_count": 19,
   "metadata": {},
   "outputs": [
    {
     "name": "stdout",
     "output_type": "stream",
     "text": [
      "{'name1': 'john', 'name2': 'adam', 'name3': 'alex', 'name4': 'ben', 'name5': 'alexa', 'name6': 'harry', 'name7': 'mary', 'name8': 'jane', 'name9': 'peter', 'name10': 'parker'} <class 'dict'>\n"
     ]
    }
   ],
   "source": [
    "#4\n",
    "dict = {\"name1\": \"john\", \"name2\": \"adam\", \"name3\": \"alex\", \"name4\": \"ben\", \"name5\": \"alexa\", \"name6\": \"harry\", \"name7\": \"mary\", \"name8\": \"jane\", \"name9\": \"peter\", \"name10\": \"parker\"}\n",
    "print(dict, type(dict))"
   ]
  },
  {
   "cell_type": "code",
   "execution_count": null,
   "metadata": {},
   "outputs": [],
   "source": [
    "#1\n",
    "movies = []\n",
    "for i in range(10):\n",
    "    name = input(\"enter a movie =>\")\n",
    "    movies.append(name)\n",
    "print(movies)"
   ]
  },
  {
   "cell_type": "markdown",
   "metadata": {},
   "source": [
    "# 5. Searching in a list, tuple,set"
   ]
  },
  {
   "cell_type": "code",
   "execution_count": 7,
   "metadata": {},
   "outputs": [
    {
     "name": "stdout",
     "output_type": "stream",
     "text": [
      "found12\n",
      "found12\n"
     ]
    }
   ],
   "source": [
    "x =[12,45,56,7,2,1,25,20]\n",
    "s = 12\n",
    "\n",
    "# basic seaching common in list, tuple,set\n",
    "for i in x:\n",
    "    if i == s:\n",
    "        print(f'found{s}')\n",
    "        break\n",
    "else:\n",
    "    print(f'{s} not found')\n",
    "\n",
    "# better seaching in list, tuple,set\n",
    "if s in x:\n",
    "    print(f'found{s}')\n",
    "else:\n",
    "    print(f'{s} not found')"
   ]
  },
  {
   "cell_type": "markdown",
   "metadata": {},
   "source": [
    "# 6. Seaching in dict"
   ]
  },
  {
   "cell_type": "code",
   "execution_count": 9,
   "metadata": {},
   "outputs": [
    {
     "name": "stdout",
     "output_type": "stream",
     "text": [
      "Tommy\n",
      "21 exists\n"
     ]
    }
   ],
   "source": [
    "std = {\"name\": 'Tommy', \"age\": 21, \"class\": 7, \"profession\": \"Developer\"}\n",
    "# Seaching if key exists in dict\n",
    "if \"name\" in std:\n",
    "    print(std[\"name\"])\n",
    "else:\n",
    "    print(\"name not found\")\n",
    "\n",
    "#Seaching if value exists in dict\n",
    "if 21 in std.values():  #.values() returns a list  of all values. \n",
    "    print(\"21 exists\")  \n",
    "else:\n",
    "    print(\"21 not found\")\n",
    "\n",
    "\n"
   ]
  },
  {
   "cell_type": "markdown",
   "metadata": {},
   "source": [
    "## 7. Sorting in list\n",
    "- note: sorting is done in list using sort() method or sorted() function.\n",
    "- note: sorting is not possible in 'tuple' as it is 'immutable'.\n",
    "- note: sorting is not possible in 'set' as it is 'unordered'.\n",
    "- note: sorting is possible but with lambda function in dict"
   ]
  },
  {
   "cell_type": "code",
   "execution_count": 11,
   "metadata": {},
   "outputs": [
    {
     "name": "stdout",
     "output_type": "stream",
     "text": [
      "[1, 3, 8, 5, 12, 18, 25, 15, 20]\n",
      "temporary sorting\n",
      "[1, 3, 5, 8, 12, 15, 18, 20, 25]\n",
      "[1, 3, 8, 5, 12, 18, 25, 15, 20]\n",
      "permanent sorting\n",
      "[1, 3, 5, 8, 12, 15, 18, 20, 25]\n",
      "[25, 20, 18, 15, 12, 8, 5, 3, 1]\n"
     ]
    }
   ],
   "source": [
    "x = [1,3,8,5,12,18,25,15,20]\n",
    "print(x)\n",
    "#temporary sorting\n",
    "print(\"temporary sorting\")\n",
    "print(sorted(x)) #used less\n",
    "print(x)\n",
    "\n",
    "#permanent sorting\n",
    "print(\"permanent sorting\")\n",
    "x.sort() #used more\n",
    "print(x)\n",
    "x.sort(reverse=True) #will print in descending order\n",
    "print(x)"
   ]
  },
  {
   "cell_type": "code",
   "execution_count": 12,
   "metadata": {},
   "outputs": [
    {
     "name": "stdout",
     "output_type": "stream",
     "text": [
      "{'name': 'Tommy', 'age': 21, 'class': 7, 'profession': 'Developer'}\n",
      "['age', 'class', 'name', 'profession']\n"
     ]
    }
   ],
   "source": [
    "print(std)\n",
    "# sorting with keys\n",
    "print(sorted(std)) #gives a list of keys.\n",
    "#but if we search wih values\n",
    "#print(sorted(std.values())) -> it will give error coz in std values are combination of int & string\n",
    "#so pass same datatype values in keys."
   ]
  },
  {
   "cell_type": "code",
   "execution_count": 14,
   "metadata": {},
   "outputs": [
    {
     "name": "stdout",
     "output_type": "stream",
     "text": [
      "{'banana': 50, 'cheery': 70, 'apple': 100, 'kiwi': 150, 'dragonfruit': 500}\n",
      "{'dragonfruit': 500, 'kiwi': 150, 'apple': 100, 'cheery': 70, 'banana': 50}\n"
     ]
    }
   ],
   "source": [
    "prices = {\n",
    "    \"apple\": 100,\n",
    "    \"banana\": 50,\n",
    "    \"cherry\": 70,\n",
    "    \"dragonfruit\": 500,\n",
    "    \"kiwi\": 150\n",
    "}\n",
    "\n",
    "#sorting dict based on values\n",
    "result = sorted(prices.items(), key =lambda item: item[1])\n",
    "print(dict(result))\n",
    "#reverse sorting\n",
    "result = sorted(prices.items(), key= lambda item: item[1], reverse =True)\n",
    "print(dict(result))\n"
   ]
  },
  {
   "cell_type": "code",
   "execution_count": null,
   "metadata": {},
   "outputs": [],
   "source": []
  }
 ],
 "metadata": {
  "kernelspec": {
   "display_name": "Python 3",
   "language": "python",
   "name": "python3"
  },
  "language_info": {
   "codemirror_mode": {
    "name": "ipython",
    "version": 3
   },
   "file_extension": ".py",
   "mimetype": "text/x-python",
   "name": "python",
   "nbconvert_exporter": "python",
   "pygments_lexer": "ipython3",
   "version": "3.12.0"
  }
 },
 "nbformat": 4,
 "nbformat_minor": 2
}
