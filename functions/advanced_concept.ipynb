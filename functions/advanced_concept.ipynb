{
 "cells": [
  {
   "cell_type": "markdown",
   "metadata": {},
   "source": [
    "Function styles in python based on parameters(arguments)"
   ]
  },
  {
   "cell_type": "markdown",
   "metadata": {},
   "source": [
    "- positional arguments\n",
    "- required arguments\n",
    "- keyword arguments\n",
    "- default arguments\n",
    "- variable arguments\n",
    "- keyword variable arguments\n",
    "\n",
    "Lambda functions- anonymous functions"
   ]
  },
  {
   "cell_type": "code",
   "execution_count": 1,
   "metadata": {},
   "outputs": [],
   "source": [
    "def multi(a, b):\n",
    "    return a*b"
   ]
  },
  {
   "cell_type": "code",
   "execution_count": 2,
   "metadata": {},
   "outputs": [
    {
     "data": {
      "text/plain": [
       "200"
      ]
     },
     "execution_count": 2,
     "metadata": {},
     "output_type": "execute_result"
    }
   ],
   "source": [
    "multi(10,20) #positional arguments"
   ]
  },
  {
   "cell_type": "code",
   "execution_count": 3,
   "metadata": {},
   "outputs": [
    {
     "data": {
      "text/plain": [
       "30"
      ]
     },
     "execution_count": 3,
     "metadata": {},
     "output_type": "execute_result"
    }
   ],
   "source": [
    "multi(a =10, b =3) #keyword argument\n"
   ]
  },
  {
   "cell_type": "code",
   "execution_count": 4,
   "metadata": {},
   "outputs": [
    {
     "data": {
      "text/plain": [
       "200"
      ]
     },
     "execution_count": 4,
     "metadata": {},
     "output_type": "execute_result"
    }
   ],
   "source": [
    "multi(b= 20, a =10)"
   ]
  },
  {
   "cell_type": "code",
   "execution_count": 5,
   "metadata": {},
   "outputs": [],
   "source": [
    "def si(p,r,t): #required arguments\n",
    "    return p*r*t/100"
   ]
  },
  {
   "cell_type": "code",
   "execution_count": 6,
   "metadata": {},
   "outputs": [
    {
     "name": "stdout",
     "output_type": "stream",
     "text": [
      "175.0\n",
      "2100.0\n",
      "2625.0\n"
     ]
    }
   ],
   "source": [
    "ans = si(1000, 3.5, 5) #works fine\n",
    "print(ans)\n",
    "#rule positional arguments first then keyword arguments\n",
    "ans = si(12000, t=5, r=3.5) #mixed style\n",
    "print(ans)\n",
    "#all keyword arguments\n",
    "ans = si(p=15000, t=5, r=3.5)\n",
    "print(ans)"
   ]
  },
  {
   "cell_type": "code",
   "execution_count": 13,
   "metadata": {},
   "outputs": [],
   "source": [
    "def generate_cards():\n",
    "    symbol=[\"♠\", \"♣\", \"♦\",\"♥\"]\n",
    "    cards =[]\n",
    "    for s in symbol:\n",
    "        for i in list(range(2,11)) +[\"J\", \"Q\", \"K\", \"A\"]:\n",
    "            cards.append(f'{s}{i}')\n",
    "    return cards"
   ]
  },
  {
   "cell_type": "code",
   "execution_count": 14,
   "metadata": {},
   "outputs": [
    {
     "data": {
      "text/plain": [
       "['♠2',\n",
       " '♠3',\n",
       " '♠4',\n",
       " '♠5',\n",
       " '♠6',\n",
       " '♠7',\n",
       " '♠8',\n",
       " '♠9',\n",
       " '♠10',\n",
       " '♠J',\n",
       " '♠Q',\n",
       " '♠K',\n",
       " '♠A',\n",
       " '♣2',\n",
       " '♣3',\n",
       " '♣4',\n",
       " '♣5',\n",
       " '♣6',\n",
       " '♣7',\n",
       " '♣8',\n",
       " '♣9',\n",
       " '♣10',\n",
       " '♣J',\n",
       " '♣Q',\n",
       " '♣K',\n",
       " '♣A',\n",
       " '♦2',\n",
       " '♦3',\n",
       " '♦4',\n",
       " '♦5',\n",
       " '♦6',\n",
       " '♦7',\n",
       " '♦8',\n",
       " '♦9',\n",
       " '♦10',\n",
       " '♦J',\n",
       " '♦Q',\n",
       " '♦K',\n",
       " '♦A',\n",
       " '♥2',\n",
       " '♥3',\n",
       " '♥4',\n",
       " '♥5',\n",
       " '♥6',\n",
       " '♥7',\n",
       " '♥8',\n",
       " '♥9',\n",
       " '♥10',\n",
       " '♥J',\n",
       " '♥Q',\n",
       " '♥K',\n",
       " '♥A']"
      ]
     },
     "execution_count": 14,
     "metadata": {},
     "output_type": "execute_result"
    }
   ],
   "source": [
    "generate_cards()"
   ]
  },
  {
   "cell_type": "code",
   "execution_count": 20,
   "metadata": {},
   "outputs": [],
   "source": [
    "from random import sample\n",
    "\n",
    "def distribute(size=13): \n",
    "#def distribute(size):\n",
    "    return sample(generate_cards(), size)"
   ]
  },
  {
   "cell_type": "code",
   "execution_count": 21,
   "metadata": {},
   "outputs": [
    {
     "data": {
      "text/plain": [
       "['♣Q', '♠A', '♠3', '♦9', '♣6', '♠5', '♥3', '♠2', '♠K', '♠8']"
      ]
     },
     "execution_count": 21,
     "metadata": {},
     "output_type": "execute_result"
    }
   ],
   "source": [
    "#distribute()\n",
    "#for size 13\n",
    "distribute(10)"
   ]
  },
  {
   "cell_type": "code",
   "execution_count": 23,
   "metadata": {},
   "outputs": [
    {
     "name": "stdout",
     "output_type": "stream",
     "text": [
      "🤵Sam have ['♣K', '♥6', '♠3', '♦K', '♣4', '♣7', '♣A', '♠7', '♥8', '♥Q', '♥3', '♦6', '♠5']\n",
      "🤵Arthur have ['♣4', '♥5', '♦9', '♠2', '♣8', '♥K', '♣K', '♦A', '♥J', '♠3', '♦2', '♠4', '♥6']\n",
      "🤵Wilson have ['♥4', '♦7', '♦4', '♠A', '♣4', '♣9', '♣Q', '♠2', '♥9', '♠8', '♥2', '♠4', '♣6']\n",
      "🤵Tommy have ['♠J', '♦8', '♠5', '♠3', '♠9', '♠4', '♥A', '♣9', '♥6', '♥10', '♥Q', '♦2', '♥7']\n"
     ]
    }
   ],
   "source": [
    "names = [\"Sam\", \"Arthur\", \"Wilson\", \"Tommy\"]\n",
    "for name in names:\n",
    "    print(f'🤵{name} have {distribute()}')"
   ]
  },
  {
   "cell_type": "code",
   "execution_count": 26,
   "metadata": {},
   "outputs": [
    {
     "name": "stdout",
     "output_type": "stream",
     "text": [
      "40\n",
      "20160\n",
      "195895253385216000000000000\n"
     ]
    }
   ],
   "source": [
    "#variable length arguments\n",
    "def multi(*nums): #can send unlmited items\n",
    "    temp =1\n",
    "    for n in nums:\n",
    "        temp *=n\n",
    "    return temp\n",
    "\n",
    "#2*4*5\n",
    "print(multi(2,4,5))\n",
    "print(multi(2,4,5,7,8,9))\n",
    "print(multi(10,4,5,6,10,12,18,27,15,20,25,30,25,16,35,40,28,88,98,92))"
   ]
  },
  {
   "cell_type": "code",
   "execution_count": 35,
   "metadata": {},
   "outputs": [],
   "source": [
    "#keyword variable length arguments\n",
    "\n",
    "def purchase(**products): #** send values with unlimited itmes with names\n",
    "    total =0\n",
    "    for name, value in products.items():\n",
    "        print(f'🛒 {name:10} {value:.2f}')\n",
    "        total += value\n",
    "    print('-'* 20)\n",
    "    print(f'Total Amount{total}')\n"
   ]
  },
  {
   "cell_type": "code",
   "execution_count": 36,
   "metadata": {},
   "outputs": [
    {
     "name": "stdout",
     "output_type": "stream",
     "text": [
      "🛒 shoes      2000.00\n",
      "🛒 bags       1000.00\n",
      "🛒 watch      5000.00\n",
      "🛒 shirts     3000.00\n",
      "--------------------\n",
      "Total Amount11000\n"
     ]
    }
   ],
   "source": [
    "purchase(shoes = 2000, bags= 1000, watch = 5000, shirts= 3000)"
   ]
  },
  {
   "cell_type": "markdown",
   "metadata": {},
   "source": [
    "# anonymous functions -> In pyhton we use them through Lambda operator"
   ]
  },
  {
   "cell_type": "code",
   "execution_count": 38,
   "metadata": {},
   "outputs": [],
   "source": [
    "f = lambda x: x**2 + x +1 "
   ]
  },
  {
   "cell_type": "code",
   "execution_count": 39,
   "metadata": {},
   "outputs": [],
   "source": [
    "g = lambda x, y: x**2 + y**2 + 2*x*y"
   ]
  },
  {
   "cell_type": "code",
   "execution_count": 44,
   "metadata": {},
   "outputs": [
    {
     "name": "stdout",
     "output_type": "stream",
     "text": [
      "111\n",
      "111\n",
      "111 421\n",
      "4990756\n",
      "11025\n"
     ]
    }
   ],
   "source": [
    "print(f(10))\n",
    "print(f(10))\n",
    "print(f(10), f(20))\n",
    "print(g(17, 2217))\n",
    "print(g(25,80))"
   ]
  },
  {
   "cell_type": "markdown",
   "metadata": {},
   "source": [
    "(p**2 + b**2) **.5"
   ]
  },
  {
   "cell_type": "code",
   "execution_count": 50,
   "metadata": {},
   "outputs": [
    {
     "name": "stdout",
     "output_type": "stream",
     "text": [
      "32.01562118716424\n"
     ]
    }
   ],
   "source": [
    "res =lambda p, b: (p**2 +b**2)**0.5\n",
    "print (res(20,25))"
   ]
  },
  {
   "cell_type": "code",
   "execution_count": null,
   "metadata": {},
   "outputs": [],
   "source": []
  }
 ],
 "metadata": {
  "kernelspec": {
   "display_name": "Python 3",
   "language": "python",
   "name": "python3"
  },
  "language_info": {
   "codemirror_mode": {
    "name": "ipython",
    "version": 3
   },
   "file_extension": ".py",
   "mimetype": "text/x-python",
   "name": "python",
   "nbconvert_exporter": "python",
   "pygments_lexer": "ipython3",
   "version": "3.12.0"
  }
 },
 "nbformat": 4,
 "nbformat_minor": 2
}
