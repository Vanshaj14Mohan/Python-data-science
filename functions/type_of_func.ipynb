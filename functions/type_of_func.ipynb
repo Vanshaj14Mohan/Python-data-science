{
 "cells": [
  {
   "cell_type": "markdown",
   "metadata": {},
   "source": [
    "Types of Functions.\n",
    "- no parameter &  no value func() -> None\n",
    "- func returning value but no parameter func() -> int\n",
    "- parameterized func & no return value func(a,b) -> None\n",
    "- parameterized func with return value func(a,b) -> str"
   ]
  },
  {
   "cell_type": "code",
   "execution_count": 2,
   "metadata": {},
   "outputs": [],
   "source": [
    "#func define\n",
    "#1\n",
    "def greetings():\n",
    "    print(\"☀\" *7)\n",
    "    print(\"☀ Good Morning\")\n",
    "    print(\"🌞\" *7)"
   ]
  },
  {
   "cell_type": "code",
   "execution_count": 20,
   "metadata": {},
   "outputs": [
    {
     "name": "stdout",
     "output_type": "stream",
     "text": [
      "☀☀☀☀☀☀☀\n",
      "☀ Good Morning\n",
      "🌞🌞🌞🌞🌞🌞🌞\n"
     ]
    }
   ],
   "source": [
    "#calling function\n",
    "greetings()"
   ]
  },
  {
   "cell_type": "code",
   "execution_count": 21,
   "metadata": {},
   "outputs": [
    {
     "name": "stdout",
     "output_type": "stream",
     "text": [
      "☀☀☀☀☀☀☀\n",
      "☀ Good Morning\n",
      "🌞🌞🌞🌞🌞🌞🌞\n",
      "☀☀☀☀☀☀☀\n",
      "☀ Good Morning\n",
      "🌞🌞🌞🌞🌞🌞🌞\n",
      "☀☀☀☀☀☀☀\n",
      "☀ Good Morning\n",
      "🌞🌞🌞🌞🌞🌞🌞\n",
      "☀☀☀☀☀☀☀\n",
      "☀ Good Morning\n",
      "🌞🌞🌞🌞🌞🌞🌞\n",
      "☀☀☀☀☀☀☀\n",
      "☀ Good Morning\n",
      "🌞🌞🌞🌞🌞🌞🌞\n"
     ]
    }
   ],
   "source": [
    "for i in range(5):\n",
    "    greetings()"
   ]
  },
  {
   "cell_type": "code",
   "execution_count": 4,
   "metadata": {},
   "outputs": [],
   "source": [
    "#2\n",
    "from random import choice\n",
    "def generate_name():\n",
    "    fnames =  [\"Bat\", \"Bird\", \"Mouse\", \"Chicken\", \"Dog\"]\n",
    "    lnames = [\"man\", \"women\", \"boy\", \"girl\"]\n",
    "    return choice(fnames)+choice(lnames)"
   ]
  },
  {
   "cell_type": "code",
   "execution_count": 14,
   "metadata": {},
   "outputs": [
    {
     "name": "stdout",
     "output_type": "stream",
     "text": [
      "Batgirl\n"
     ]
    }
   ],
   "source": [
    "#hero =generate_name()\n",
    "#print(hero)"
   ]
  },
  {
   "cell_type": "code",
   "execution_count": 19,
   "metadata": {},
   "outputs": [
    {
     "name": "stdout",
     "output_type": "stream",
     "text": [
      "Batgirl\n",
      "Batboy\n",
      "Mousegirl\n",
      "Mouseboy\n",
      "Dogman\n"
     ]
    }
   ],
   "source": [
    "for i in range(5):\n",
    "   print(generate_name())"
   ]
  },
  {
   "cell_type": "code",
   "execution_count": 28,
   "metadata": {},
   "outputs": [],
   "source": [
    "def text_cake(name, age):\n",
    "    layers = age //2\n",
    "    s = 13\n",
    "    print('🕯'.center(s))\n",
    "    print(str(\"~\"*3).center(s))\n",
    "    print(str(\"#\"*5).center(s))\n",
    "    for i in range(layers):print(\"~\"*s)\n",
    "    print(name.center(s, \"~\"))\n",
    "    for i in range(layers):print(\"#\"*s)"
   ]
  },
  {
   "cell_type": "code",
   "execution_count": 32,
   "metadata": {},
   "outputs": [
    {
     "name": "stdout",
     "output_type": "stream",
     "text": [
      "      🕯      \n",
      "     ~~~     \n",
      "    #####    \n",
      "~~~~~~~~~~~~~\n",
      "~~~~~~~~~~~~~\n",
      "~~~~~Sam~~~~~\n",
      "#############\n",
      "#############\n"
     ]
    }
   ],
   "source": [
    "text_cake(\"Sam\",4)"
   ]
  },
  {
   "cell_type": "markdown",
   "metadata": {},
   "source": [
    "All these are half function"
   ]
  },
  {
   "cell_type": "code",
   "execution_count": 34,
   "metadata": {},
   "outputs": [
    {
     "name": "stdout",
     "output_type": "stream",
     "text": [
      "37 207\n"
     ]
    }
   ],
   "source": [
    "#4 Normally functions we will see like this\n",
    "def add(a, b):\n",
    "    return a+b\n",
    "#add(12,12)\n",
    "ans = add(12, 25)\n",
    "new_ans = add(ans, 170)\n",
    "print(ans, new_ans)"
   ]
  },
  {
   "cell_type": "code",
   "execution_count": 35,
   "metadata": {},
   "outputs": [
    {
     "data": {
      "text/plain": [
       "24.666666666666668"
      ]
     },
     "execution_count": 35,
     "metadata": {},
     "output_type": "execute_result"
    }
   ],
   "source": [
    "add(12, 25) * add(15, 17) / add(24, 24)"
   ]
  },
  {
   "cell_type": "code",
   "execution_count": 37,
   "metadata": {},
   "outputs": [
    {
     "name": "stdout",
     "output_type": "stream",
     "text": [
      "91.33333333333333\n"
     ]
    }
   ],
   "source": [
    "a = add(12,125)\n",
    "b = add(15,17)\n",
    "c = add(24,24)\n",
    "ans =a*b/c\n",
    "print(ans)"
   ]
  },
  {
   "cell_type": "code",
   "execution_count": 41,
   "metadata": {},
   "outputs": [],
   "source": [
    "def read_file(path):\n",
    "    with open(path, errors=\"ignore\")as f:\n",
    "        content = f.read()\n",
    "        return content"
   ]
  },
  {
   "cell_type": "code",
   "execution_count": 42,
   "metadata": {},
   "outputs": [
    {
     "name": "stdout",
     "output_type": "stream",
     "text": [
      "5\n"
     ]
    }
   ],
   "source": [
    "out = read_file(r\"E:\\Coding\\GitDemo\\project2\\app.js\")\n",
    "words = out.split()\n",
    "print(len(words))"
   ]
  },
  {
   "cell_type": "markdown",
   "metadata": {},
   "source": [
    "-create functions\n",
    "1. waf to return the compound interest for given p,t,r\n",
    "2. waf to return all the words starting with the letter given as param\n",
    "3. waf to return the factorial of a given number"
   ]
  },
  {
   "cell_type": "markdown",
   "metadata": {},
   "source": []
  }
 ],
 "metadata": {
  "kernelspec": {
   "display_name": "Python 3",
   "language": "python",
   "name": "python3"
  },
  "language_info": {
   "codemirror_mode": {
    "name": "ipython",
    "version": 3
   },
   "file_extension": ".py",
   "mimetype": "text/x-python",
   "name": "python",
   "nbconvert_exporter": "python",
   "pygments_lexer": "ipython3",
   "version": "3.12.0"
  }
 },
 "nbformat": 4,
 "nbformat_minor": 2
}
