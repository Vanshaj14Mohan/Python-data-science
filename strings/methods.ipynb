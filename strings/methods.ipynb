{
 "cells": [
  {
   "cell_type": "markdown",
   "metadata": {},
   "source": [
    "Exercises"
   ]
  },
  {
   "cell_type": "code",
   "execution_count": 1,
   "metadata": {},
   "outputs": [
    {
     "name": "stdout",
     "output_type": "stream",
     "text": [
      "xyzabc\n"
     ]
    }
   ],
   "source": [
    "name =\"xyzabc\"\n",
    "print(name)"
   ]
  },
  {
   "cell_type": "code",
   "execution_count": 11,
   "metadata": {},
   "outputs": [
    {
     "name": "stdout",
     "output_type": "stream",
     "text": [
      "6\n"
     ]
    }
   ],
   "source": [
    "len(input(\"enter something\"))\n",
    "print(len(name))"
   ]
  },
  {
   "cell_type": "code",
   "execution_count": 29,
   "metadata": {},
   "outputs": [
    {
     "data": {
      "text/plain": [
       "'great'"
      ]
     },
     "execution_count": 29,
     "metadata": {},
     "output_type": "execute_result"
    }
   ],
   "source": [
    "string= \"Python is great\"\n",
    "#string.split()\n",
    "string.split()[-1]\n",
    "#print(string[0:6])\n",
    "#print(string[7:9])\n",
    "#print(string[10:15])"
   ]
  },
  {
   "cell_type": "code",
   "execution_count": 31,
   "metadata": {},
   "outputs": [
    {
     "name": "stdout",
     "output_type": "stream",
     "text": [
      "python\n",
      "is\n",
      "everywhere\n"
     ]
    }
   ],
   "source": [
    "sent = \"python is everywhere\"\n",
    "for word in sent.split():\n",
    "    print(word)"
   ]
  },
  {
   "cell_type": "code",
   "execution_count": 20,
   "metadata": {},
   "outputs": [],
   "source": [
    "hello = \"hello world!\""
   ]
  },
  {
   "cell_type": "code",
   "execution_count": 21,
   "metadata": {},
   "outputs": [
    {
     "name": "stdout",
     "output_type": "stream",
     "text": [
      "!dlrow olleh\n"
     ]
    }
   ],
   "source": [
    "print(hello[::-1])"
   ]
  },
  {
   "cell_type": "code",
   "execution_count": 29,
   "metadata": {},
   "outputs": [
    {
     "name": "stdout",
     "output_type": "stream",
     "text": [
      "HOW ARE YOU?\n",
      "how are you?\n",
      "How are you?\n",
      "How Are You?\n",
      "HOW ARE YOU?\n",
      "how are you?\n",
      "HOW ARE YOU?\n"
     ]
    }
   ],
   "source": [
    "xyz = \"how are you?\"\n",
    "print(xyz.upper())\n",
    "print(xyz.lower())\n",
    "print(xyz.capitalize())\n",
    "print(xyz.title())\n",
    "print(xyz.swapcase())\n",
    "print(xyz) #original text \n",
    "xyz = xyz.upper()\n",
    "print(xyz)"
   ]
  },
  {
   "cell_type": "code",
   "execution_count": 37,
   "metadata": {},
   "outputs": [
    {
     "data": {
      "text/plain": [
       "'how is it going?'"
      ]
     },
     "execution_count": 37,
     "metadata": {},
     "output_type": "execute_result"
    }
   ],
   "source": [
    "\"HOW is It Going?\" .lower()\n"
   ]
  },
  {
   "cell_type": "code",
   "execution_count": 40,
   "metadata": {},
   "outputs": [
    {
     "name": "stdout",
     "output_type": "stream",
     "text": [
      "python is easy to learn\n"
     ]
    }
   ],
   "source": [
    "words = [\"python\", \"is\", \"easy\", \"to\", \"learn\"]\n",
    "output =' '.join(words) #' '.join (convert list of string into string)\n",
    "print(output)"
   ]
  },
  {
   "cell_type": "code",
   "execution_count": 43,
   "metadata": {},
   "outputs": [
    {
     "name": "stdout",
     "output_type": "stream",
     "text": [
      " this is a good story,\n",
      "about a challenging journey in Data science\n",
      "and a long lasting journey\n"
     ]
    }
   ],
   "source": [
    "print(''' this is a good story,\n",
    "about a challenging journey in Data science\n",
    "and a long lasting journey''')"
   ]
  },
  {
   "cell_type": "code",
   "execution_count": 27,
   "metadata": {},
   "outputs": [
    {
     "name": "stdout",
     "output_type": "stream",
     "text": [
      "to move to newline '\\n' is used\n"
     ]
    }
   ],
   "source": [
    "sentence = r\"to move to newline '\\n' is used\" #to remove \\n effect --. \\\\n (2nd) case add r before it ie. raw string\n",
    "print(sentence)"
   ]
  },
  {
   "cell_type": "code",
   "execution_count": 26,
   "metadata": {},
   "outputs": [
    {
     "name": "stdout",
     "output_type": "stream",
     "text": [
      "the variable is 15\n"
     ]
    }
   ],
   "source": [
    "a = 15\n",
    "print(f'the variable is {a}')"
   ]
  },
  {
   "cell_type": "code",
   "execution_count": 54,
   "metadata": {},
   "outputs": [
    {
     "name": "stdout",
     "output_type": "stream",
     "text": [
      "good sunny day \n",
      "pyhton is great\n"
     ]
    }
   ],
   "source": [
    "s1 = \"good \"\n",
    "s2 = \"sunny \"\n",
    "s3 = \"day \"\n",
    "out = s1  +  s2  +  s3\n",
    "print(out)\n",
    "\n",
    "x1 =  \"pyhton\"\n",
    "x2 = \"is\"\n",
    "x3 = \"great\"\n",
    "ans = x1 +' '+ x2 +' '+ x3\n",
    "print(ans) "
   ]
  },
  {
   "cell_type": "code",
   "execution_count": 22,
   "metadata": {},
   "outputs": [
    {
     "data": {
      "text/plain": [
       "'####################'"
      ]
     },
     "execution_count": 22,
     "metadata": {},
     "output_type": "execute_result"
    }
   ],
   "source": [
    "\"#\"* 20"
   ]
  },
  {
   "cell_type": "code",
   "execution_count": 60,
   "metadata": {},
   "outputs": [
    {
     "name": "stdout",
     "output_type": "stream",
     "text": [
      "1.\n",
      "2.\n",
      "3.\n",
      "4.\n",
      "5.\n",
      "6.\n",
      "7.\n",
      "8.\n",
      "9.\n"
     ]
    }
   ],
   "source": [
    "for i in range(1, 10):\n",
    "    print(f'{i}.')  #or print(str(i) +'.')"
   ]
  },
  {
   "cell_type": "markdown",
   "metadata": {},
   "source": [
    "Important method"
   ]
  },
  {
   "cell_type": "code",
   "execution_count": 2,
   "metadata": {},
   "outputs": [
    {
     "name": "stdout",
     "output_type": "stream",
     "text": [
      "once upon a time there was a king, And the king was old, there was no time for the king\n"
     ]
    }
   ],
   "source": [
    "msg= \"once upon a time there was a king, And the king was old, there was no time for the king\"\n",
    "print(msg)    "
   ]
  },
  {
   "cell_type": "code",
   "execution_count": 3,
   "metadata": {},
   "outputs": [
    {
     "name": "stdout",
     "output_type": "stream",
     "text": [
      " time was found at 12\n"
     ]
    }
   ],
   "source": [
    "idx = msg.find(\"time\")\n",
    "print(f' time was found at {idx}')"
   ]
  },
  {
   "cell_type": "code",
   "execution_count": 4,
   "metadata": {},
   "outputs": [
    {
     "name": "stdout",
     "output_type": "stream",
     "text": [
      "time was found at 70\n"
     ]
    }
   ],
   "source": [
    "idx2 = msg.find(\"time\", idx+1)\n",
    "print(f'time was found at {idx2}')"
   ]
  },
  {
   "cell_type": "code",
   "execution_count": 8,
   "metadata": {},
   "outputs": [
    {
     "name": "stdout",
     "output_type": "stream",
     "text": [
      "time wa found at -1\n"
     ]
    }
   ],
   "source": [
    "idx3 = msg.find(\"time\", idx2+1)\n",
    "print(f'time wa found at {idx3}')"
   ]
  },
  {
   "cell_type": "code",
   "execution_count": 12,
   "metadata": {},
   "outputs": [
    {
     "name": "stdout",
     "output_type": "stream",
     "text": [
      "once upon a time there was a queen, And the queen was old, there was no time for the queen\n",
      "once upon e time there wes e king, And the king wes old, there wes no time for the king\n",
      "once upon a time there was a king, And the king was young, there was no time for the king\n",
      "once upon a time there were a king, And the king were old, there were no time for the king\n"
     ]
    }
   ],
   "source": [
    "print(msg.replace(\"king\", \"queen\"))\n",
    "print(msg.replace(\"a\", \"e\"))   \n",
    "print(msg.replace(\"old\", \"young\"))\n",
    "print(msg.replace(\"was\", \"were\"))"
   ]
  },
  {
   "cell_type": "code",
   "execution_count": 13,
   "metadata": {},
   "outputs": [
    {
     "name": "stdout",
     "output_type": "stream",
     "text": [
      "once upon a time there was a king, And the king was old, there was no time for the king\n"
     ]
    }
   ],
   "source": [
    "print(msg)"
   ]
  },
  {
   "cell_type": "code",
   "execution_count": 16,
   "metadata": {},
   "outputs": [
    {
     "name": "stdout",
     "output_type": "stream",
     "text": [
      "sometime upon a year there was a king, And the king was young, there was no time for the king\n"
     ]
    }
   ],
   "source": [
    "msg2 = msg.replace(\"time\", \"year\", 1).replace(\"old\", \"young\").replace(\"once\", \"sometime\")\n",
    "print(msg2)"
   ]
  },
  {
   "cell_type": "code",
   "execution_count": 2,
   "metadata": {},
   "outputs": [
    {
     "name": "stdout",
     "output_type": "stream",
     "text": [
      "21\n",
      "apple and bananas 17\n"
     ]
    }
   ],
   "source": [
    "dirty_data=\"  apple and bananas  \"\n",
    "print(len(dirty_data))\n",
    "clean_data = dirty_data.strip()\n",
    "print(clean_data, len(clean_data))\n",
    "#print(clean_data)\n"
   ]
  },
  {
   "cell_type": "code",
   "execution_count": 27,
   "metadata": {},
   "outputs": [
    {
     "name": "stdout",
     "output_type": "stream",
     "text": [
      "csv file\n"
     ]
    }
   ],
   "source": [
    "file = \"data.csv\"\n",
    "if file.endswith(\".txt\"):\n",
    "    print(\"text file\")\n",
    "if file.endswith(\".csv\"):\n",
    "    print(\"csv file\")"
   ]
  },
  {
   "cell_type": "code",
   "execution_count": 10,
   "metadata": {},
   "outputs": [
    {
     "name": "stdout",
     "output_type": "stream",
     "text": [
      "index (1).html\n",
      "index (2).html\n",
      "index (3).html\n",
      "index.html\n",
      "inheritance_demo.html\n"
     ]
    }
   ],
   "source": [
    "import os #module for interactg with operting system\n",
    "content = os.listdir(r'c:\\USers\\Lenovo\\Downloads/')\n",
    "for file in content:\n",
    "   if file.startswith(\"i\"):\n",
    "    print(file)    #same with endswith\n"
   ]
  },
  {
   "cell_type": "code",
   "execution_count": 40,
   "metadata": {},
   "outputs": [
    {
     "data": {
      "text/plain": [
       "5"
      ]
     },
     "execution_count": 40,
     "metadata": {},
     "output_type": "execute_result"
    }
   ],
   "source": [
    "msg.count(\"a\")"
   ]
  },
  {
   "cell_type": "code",
   "execution_count": 41,
   "metadata": {},
   "outputs": [
    {
     "data": {
      "text/plain": [
       "3"
      ]
     },
     "execution_count": 41,
     "metadata": {},
     "output_type": "execute_result"
    }
   ],
   "source": [
    "msg.count(\"king\")"
   ]
  },
  {
   "cell_type": "markdown",
   "metadata": {},
   "source": [
    "STRING END"
   ]
  },
  {
   "cell_type": "code",
   "execution_count": 19,
   "metadata": {},
   "outputs": [
    {
     "name": "stdout",
     "output_type": "stream",
     "text": [
      "ending with ?\n"
     ]
    }
   ],
   "source": [
    "#Q- 16\n",
    "user = input(\"enter a string\")\n",
    "if user.endswith(\"?\"):\n",
    "    print(\"ending with ?\")\n",
    "else:\n",
    "    print(\"not ending with ?\")"
   ]
  },
  {
   "cell_type": "code",
   "execution_count": 22,
   "metadata": {},
   "outputs": [
    {
     "data": {
      "text/plain": [
       "7"
      ]
     },
     "execution_count": 22,
     "metadata": {},
     "output_type": "execute_result"
    }
   ],
   "source": [
    "#Q- 17\n",
    "user1 = input(\"enter a string\")\n",
    "user1.count(\"e\")"
   ]
  },
  {
   "cell_type": "code",
   "execution_count": 52,
   "metadata": {},
   "outputs": [
    {
     "name": "stdout",
     "output_type": "stream",
     "text": [
      "Input is not a number.\n"
     ]
    }
   ],
   "source": [
    "#Q- 18\n",
    "user_input = input(\"Enter a number: \")\n",
    "\n",
    "if user_input.isdigit():\n",
    "    print(\"Input is a number.\")\n",
    "else:\n",
    "    print(\"Input is not a number.\")\n"
   ]
  },
  {
   "cell_type": "code",
   "execution_count": 34,
   "metadata": {},
   "outputs": [
    {
     "data": {
      "text/plain": [
       "'this is not a good string'"
      ]
     },
     "execution_count": 34,
     "metadata": {},
     "output_type": "execute_result"
    }
   ],
   "source": [
    "#Q-19\n",
    "text = \"   this is not a good string  \"\n",
    "text.strip()"
   ]
  },
  {
   "cell_type": "code",
   "execution_count": 64,
   "metadata": {},
   "outputs": [
    {
     "name": "stdout",
     "output_type": "stream",
     "text": [
      "Found\n"
     ]
    }
   ],
   "source": [
    "#Q- 20\n",
    "user = input(\"Enter a string\")\n",
    "if any(char.isupper() for char in user):\n",
    "    print(\"Found\")\n",
    "else:\n",
    "    print(\"Not found\")"
   ]
  },
  {
   "cell_type": "code",
   "execution_count": 73,
   "metadata": {},
   "outputs": [
    {
     "name": "stdout",
     "output_type": "stream",
     "text": [
      "thisaye isaye someaye textaye\n"
     ]
    }
   ],
   "source": [
    "#Q- 22\n",
    "text = \"this is some text\"\n",
    "words = text.split()\n",
    "newtxt = \" \".join(word + \"aye\" for word in words)\n",
    "print(newtxt)"
   ]
  },
  {
   "cell_type": "code",
   "execution_count": 1,
   "metadata": {},
   "outputs": [
    {
     "name": "stdout",
     "output_type": "stream",
     "text": [
      "The string does not contain 'fyi'.\n"
     ]
    }
   ],
   "source": [
    "#Q- 23\n",
    "user = input(\"Enter a string: \")\n",
    "if \"fyi\" in user:\n",
    "    print(\"The string contains 'fyi'.\")\n",
    "else:\n",
    "    print(\"The string does not contain 'fyi'.\")\n"
   ]
  },
  {
   "cell_type": "code",
   "execution_count": 4,
   "metadata": {},
   "outputs": [
    {
     "name": "stdout",
     "output_type": "stream",
     "text": [
      "@#!$%^%#%^pav$%^%usd\n",
      "pavusd\n"
     ]
    }
   ],
   "source": [
    "#Q- 24\n",
    "#2 ways to do this question\n",
    "#1\n",
    "text = \"@#!$%^%#%^pav$%^%usd\"\n",
    "clean_text = \"\"\n",
    "for char in text:\n",
    "    if char.isalpha():\n",
    "        clean_text += char\n",
    "print(text)\n",
    "print(clean_text)"
   ]
  },
  {
   "cell_type": "code",
   "execution_count": 5,
   "metadata": {},
   "outputs": [
    {
     "name": "stdout",
     "output_type": "stream",
     "text": [
      "@#$%^%#%^pav$%^%usd\n",
      "pavusd\n",
      "@#$%^%#%^pav$%^%usd\n",
      "pavusd\n",
      "@$%^%%^pav$%^%usd\n",
      "pavusd\n",
      "@%^%%^pav%^%usd\n",
      "pavusd\n",
      "@^^pav^usd\n",
      "pavusd\n",
      "@^^pav^usd\n",
      "pavusd\n",
      "@^^pav^usd\n",
      "pavusd\n",
      "@^^pav^usd\n",
      "pavusd\n",
      "@^^pav^usd\n",
      "pavusd\n",
      "@^^pav^usd\n",
      "pavusd\n",
      "@^^pav^usd\n",
      "pavusd\n",
      "@^^pav^usd\n",
      "pavusd\n",
      "@^^pav^usd\n",
      "pavusd\n",
      "@^^pav^usd\n",
      "pavusd\n",
      "@^^pav^usd\n",
      "pavusd\n",
      "@^^pav^usd\n",
      "pavusd\n",
      "@^^pav^usd\n",
      "pavusd\n",
      "@^^pav^usd\n",
      "pavusd\n",
      "@^^pav^usd\n",
      "pavusd\n",
      "@^^pav^usd\n",
      "pavusd\n",
      "@^^pav^usd\n",
      "pavusd\n",
      "^^pav^usd\n",
      "pavusd\n",
      "^^pav^usd\n",
      "pavusd\n",
      "^^pav^usd\n",
      "pavusd\n",
      "^^pav^usd\n",
      "pavusd\n",
      "pavusd\n",
      "pavusd\n",
      "pavusd\n",
      "pavusd\n",
      "pavusd\n",
      "pavusd\n",
      "pavusd\n",
      "pavusd\n",
      "pavusd\n",
      "pavusd\n",
      "pavusd\n",
      "pavusd\n",
      "pavusd\n",
      "pavusd\n",
      "pavusd\n",
      "pavusd\n",
      "pavusd\n",
      "pavusd\n",
      "pavusd\n",
      "pavusd\n",
      "pavusd\n",
      "pavusd\n",
      "pavusd\n",
      "pavusd\n",
      "pavusd\n",
      "pavusd\n",
      "pavusd\n",
      "pavusd\n",
      "pavusd\n",
      "pavusd\n",
      "pavusd\n",
      "pavusd\n",
      "pavusd\n",
      "pavusd\n"
     ]
    }
   ],
   "source": [
    "#2nd way\n",
    "from string import punctuation, digits\n",
    "for waste in punctuation + digits:\n",
    "    text = text.replace(waste, '')  #reo\n",
    "    print(text)\n",
    "    print(clean_text)"
   ]
  },
  {
   "cell_type": "code",
   "execution_count": 6,
   "metadata": {},
   "outputs": [
    {
     "name": "stdout",
     "output_type": "stream",
     "text": [
      "total words: 24\n",
      "total words: 77\n",
      "average word length 3.2083333333333335\n"
     ]
    }
   ],
   "source": [
    "#Q- 25\n",
    "sent = \" A good day to go out and hence a good morning over the blue sky and yes to go out and enjoy the view\"\n",
    "print(\"total words:\",len(sent.split()))\n",
    "word_count = 0\n",
    "for word in sent.split():\n",
    "    word_count += len(word)\n",
    "print(\"total words:\", word_count)\n",
    "print(\"average word length\", word_count/len(sent.split()))\n",
    "\n",
    "\n"
   ]
  },
  {
   "cell_type": "code",
   "execution_count": null,
   "metadata": {},
   "outputs": [],
   "source": []
  }
 ],
 "metadata": {
  "kernelspec": {
   "display_name": "Python 3",
   "language": "python",
   "name": "python3"
  },
  "language_info": {
   "codemirror_mode": {
    "name": "ipython",
    "version": 3
   },
   "file_extension": ".py",
   "mimetype": "text/x-python",
   "name": "python",
   "nbconvert_exporter": "python",
   "pygments_lexer": "ipython3",
   "version": "3.12.0"
  }
 },
 "nbformat": 4,
 "nbformat_minor": 2
}
