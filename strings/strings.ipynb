{
 "cells": [
  {
   "cell_type": "markdown",
   "metadata": {},
   "source": [
    "String Opertaion\n"
   ]
  },
  {
   "cell_type": "code",
   "execution_count": 1,
   "metadata": {},
   "outputs": [],
   "source": [
    "a ='apple'\n",
    "b =\"banana\"\n",
    "c =\"\"\"chocolate and vanilla\"\"\""
   ]
  },
  {
   "cell_type": "code",
   "execution_count": 2,
   "metadata": {},
   "outputs": [
    {
     "data": {
      "text/plain": [
       "'apple'"
      ]
     },
     "execution_count": 2,
     "metadata": {},
     "output_type": "execute_result"
    }
   ],
   "source": [
    "a"
   ]
  },
  {
   "cell_type": "code",
   "execution_count": 3,
   "metadata": {},
   "outputs": [
    {
     "data": {
      "text/plain": [
       "'banana'"
      ]
     },
     "execution_count": 3,
     "metadata": {},
     "output_type": "execute_result"
    }
   ],
   "source": [
    "b"
   ]
  },
  {
   "cell_type": "code",
   "execution_count": 4,
   "metadata": {},
   "outputs": [
    {
     "data": {
      "text/plain": [
       "'chocolate and vanilla'"
      ]
     },
     "execution_count": 4,
     "metadata": {},
     "output_type": "execute_result"
    }
   ],
   "source": [
    "c"
   ]
  },
  {
   "cell_type": "code",
   "execution_count": 5,
   "metadata": {},
   "outputs": [
    {
     "name": "stdout",
     "output_type": "stream",
     "text": [
      "apple\n",
      "banana\n",
      "chocolate and vanilla\n"
     ]
    }
   ],
   "source": [
    "print(a)\n",
    "print(b)\n",
    "print(c)"
   ]
  },
  {
   "cell_type": "code",
   "execution_count": 7,
   "metadata": {},
   "outputs": [
    {
     "name": "stdout",
     "output_type": "stream",
     "text": [
      "1.2345\n",
      "alexalexalexalexalex\n"
     ]
    }
   ],
   "source": [
    "d = 1.2345\n",
    "d = str(d)  #convert to string(casting)\n",
    "print(d)\n",
    "\n",
    "# string duplication\n",
    "e = 'alex' *5\n",
    "print(e)"
   ]
  },
  {
   "cell_type": "code",
   "execution_count": 3,
   "metadata": {},
   "outputs": [
    {
     "data": {
      "text/plain": [
       "'hello'"
      ]
     },
     "execution_count": 3,
     "metadata": {},
     "output_type": "execute_result"
    }
   ],
   "source": [
    "#string concatenation\n",
    "'he' +'ll' +'o'"
   ]
  },
  {
   "cell_type": "markdown",
   "metadata": {},
   "source": [
    "indexing\n"
   ]
  },
  {
   "cell_type": "code",
   "execution_count": 2,
   "metadata": {},
   "outputs": [
    {
     "name": "stdout",
     "output_type": "stream",
     "text": [
      "11\n",
      "c\n",
      "a\n"
     ]
    }
   ],
   "source": [
    "a =\"calligraphy\"\n",
    "print(len(a))\n",
    "print(a[0])\n",
    "print(a[7])"
   ]
  },
  {
   "cell_type": "markdown",
   "metadata": {},
   "source": [
    "negative indexing (-1 is last index)"
   ]
  },
  {
   "cell_type": "code",
   "execution_count": 3,
   "metadata": {},
   "outputs": [
    {
     "name": "stdout",
     "output_type": "stream",
     "text": [
      "y\n",
      "h\n",
      "i\n",
      "l\n"
     ]
    }
   ],
   "source": [
    "print(a[-1])\n",
    "print(a[-2])\n",
    "print(a[-7])\n",
    "print(a[-9])"
   ]
  },
  {
   "cell_type": "markdown",
   "metadata": {},
   "source": [
    "note: reverse loop in python using range()"
   ]
  },
  {
   "cell_type": "code",
   "execution_count": 9,
   "metadata": {},
   "outputs": [
    {
     "name": "stdout",
     "output_type": "stream",
     "text": [
      "10 y\n",
      "9 h\n",
      "8 p\n",
      "7 a\n",
      "6 r\n",
      "5 g\n",
      "4 i\n",
      "3 l\n",
      "2 l\n",
      "1 a\n",
      "0 c\n"
     ]
    }
   ],
   "source": [
    "for i in range(10, -1, -1): #to move backword 10 --> -1\n",
    "    print(i, a[i])     #to include a we can write -1\n"
   ]
  },
  {
   "cell_type": "code",
   "execution_count": 27,
   "metadata": {},
   "outputs": [
    {
     "name": "stdout",
     "output_type": "stream",
     "text": [
      "h e l l o\n"
     ]
    }
   ],
   "source": [
    "b = \"hello\"\n",
    "print( b[0], b[1], b[2],b[3], b[4])  #slow and boring way"
   ]
  },
  {
   "cell_type": "code",
   "execution_count": 15,
   "metadata": {},
   "outputs": [
    {
     "name": "stdout",
     "output_type": "stream",
     "text": [
      "Matt\n",
      "hew\n"
     ]
    }
   ],
   "source": [
    "b = \"Matthew\"\n",
    "#slicing method\n",
    "print(b[0:4])\n",
    "print(b[4:7])"
   ]
  },
  {
   "cell_type": "code",
   "execution_count": 19,
   "metadata": {},
   "outputs": [
    {
     "name": "stdout",
     "output_type": "stream",
     "text": [
      "Vijay\n",
      "Deenanath\n",
      "Chauhan\n"
     ]
    }
   ],
   "source": [
    "name = \"Vijay Deenanath Chauhan\"\n",
    "fname= (name[0:5])\n",
    "mname = (name[6:15]) #-8 starts from 6 and stop at -8\n",
    "lname =(name[16:23])  #-7 starts from -7 and stop at the end\n",
    "print(fname)\n",
    "print(mname)\n",
    "print(lname)"
   ]
  },
  {
   "cell_type": "code",
   "execution_count": 40,
   "metadata": {},
   "outputs": [
    {
     "name": "stdout",
     "output_type": "stream",
     "text": [
      "nahuahC htananeeD yajiV\n"
     ]
    }
   ],
   "source": [
    "#a trick ( reverse a string)\n",
    "print(name[::-1])  #start from end and stop at beginning"
   ]
  },
  {
   "cell_type": "code",
   "execution_count": 25,
   "metadata": {},
   "outputs": [
    {
     "name": "stdout",
     "output_type": "stream",
     "text": [
      "10000\n"
     ]
    }
   ],
   "source": [
    "amount = \"$10000\"\n",
    "amount = int(amount[1:])\n",
    "print(amount)"
   ]
  },
  {
   "cell_type": "markdown",
   "metadata": {},
   "source": [
    "EXtra work from home"
   ]
  },
  {
   "cell_type": "code",
   "execution_count": 4,
   "metadata": {},
   "outputs": [
    {
     "name": "stdout",
     "output_type": "stream",
     "text": [
      "9\n",
      "t\n",
      "l\n"
     ]
    }
   ],
   "source": [
    "x = \"telepathy\"\n",
    "print(len(x))\n",
    "print(x[0])\n",
    "print(x[2])"
   ]
  },
  {
   "cell_type": "code",
   "execution_count": 2,
   "metadata": {},
   "outputs": [
    {
     "name": "stdout",
     "output_type": "stream",
     "text": [
      "8 y\n",
      "7 h\n",
      "6 t\n",
      "5 a\n",
      "4 p\n",
      "3 e\n",
      "2 l\n",
      "1 e\n",
      "0 t\n"
     ]
    }
   ],
   "source": [
    "for i in range(8, -1, -1):\n",
    "    print(i, x[i])"
   ]
  },
  {
   "cell_type": "code",
   "execution_count": 2,
   "metadata": {},
   "outputs": [
    {
     "name": "stdout",
     "output_type": "stream",
     "text": [
      "h\n"
     ]
    }
   ],
   "source": [
    "print(x[-2])"
   ]
  },
  {
   "cell_type": "code",
   "execution_count": 3,
   "metadata": {},
   "outputs": [
    {
     "name": "stdout",
     "output_type": "stream",
     "text": [
      "y\n",
      "t\n"
     ]
    }
   ],
   "source": [
    "print(x[-1])\n",
    "print(x[-3])"
   ]
  },
  {
   "cell_type": "code",
   "execution_count": 3,
   "metadata": {},
   "outputs": [
    {
     "name": "stdout",
     "output_type": "stream",
     "text": [
      "telep\n",
      "athy\n"
     ]
    }
   ],
   "source": [
    "print(x[0:5])  #slicing method\n",
    "print(x[5:9])"
   ]
  },
  {
   "cell_type": "code",
   "execution_count": 6,
   "metadata": {},
   "outputs": [
    {
     "name": "stdout",
     "output_type": "stream",
     "text": [
      "yhtapelet\n"
     ]
    }
   ],
   "source": [
    "print(x[::-1])"
   ]
  },
  {
   "cell_type": "code",
   "execution_count": 7,
   "metadata": {},
   "outputs": [
    {
     "name": "stdout",
     "output_type": "stream",
     "text": [
      "l a\n"
     ]
    }
   ],
   "source": [
    "print(x[2], x[5])"
   ]
  },
  {
   "cell_type": "code",
   "execution_count": 1,
   "metadata": {},
   "outputs": [
    {
     "name": "stdout",
     "output_type": "stream",
     "text": [
      "Eren\n",
      "Yeager\n"
     ]
    }
   ],
   "source": [
    "name = \"Eren Yeager\"\n",
    "fname =(name[0:4])\n",
    "lname =(name[5:11])\n",
    "print(fname) \n",
    "print(lname)"
   ]
  },
  {
   "cell_type": "code",
   "execution_count": 2,
   "metadata": {},
   "outputs": [
    {
     "name": "stdout",
     "output_type": "stream",
     "text": [
      "regaeY nerE\n"
     ]
    }
   ],
   "source": [
    "#to print in reverse\n",
    "print(name[::-1])\n"
   ]
  },
  {
   "cell_type": "code",
   "execution_count": 3,
   "metadata": {},
   "outputs": [
    {
     "name": "stdout",
     "output_type": "stream",
     "text": [
      "Mahendra\n",
      "Singh\n",
      "Dhoni\n"
     ]
    }
   ],
   "source": [
    "name = \"Mahendra Singh Dhoni\"\n",
    "fname =(name[0:8])\n",
    "mname =(name[9:14])\n",
    "lname =(name[15:20])\n",
    "print(fname)\n",
    "print(mname)\n",
    "print(lname)"
   ]
  },
  {
   "cell_type": "code",
   "execution_count": 4,
   "metadata": {},
   "outputs": [
    {
     "name": "stdout",
     "output_type": "stream",
     "text": [
      "inohD hgniS ardnehaM\n"
     ]
    }
   ],
   "source": [
    "print(name[::-1])"
   ]
  },
  {
   "cell_type": "code",
   "execution_count": 5,
   "metadata": {},
   "outputs": [
    {
     "name": "stdout",
     "output_type": "stream",
     "text": [
      "M d\n"
     ]
    }
   ],
   "source": [
    "print(name[0], name[5])"
   ]
  },
  {
   "cell_type": "code",
   "execution_count": 9,
   "metadata": {},
   "outputs": [
    {
     "name": "stdout",
     "output_type": "stream",
     "text": [
      "200000\n"
     ]
    }
   ],
   "source": [
    "amount = \"#$@@200000\"\n",
    "amount = int(amount[4:])\n",
    "print(amount)"
   ]
  }
 ],
 "metadata": {
  "kernelspec": {
   "display_name": "Python 3",
   "language": "python",
   "name": "python3"
  },
  "language_info": {
   "codemirror_mode": {
    "name": "ipython",
    "version": 3
   },
   "file_extension": ".py",
   "mimetype": "text/x-python",
   "name": "python",
   "nbconvert_exporter": "python",
   "pygments_lexer": "ipython3",
   "version": "3.12.0"
  }
 },
 "nbformat": 4,
 "nbformat_minor": 2
}
