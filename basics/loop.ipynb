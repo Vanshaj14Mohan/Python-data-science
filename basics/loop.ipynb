{
 "cells": [
  {
   "cell_type": "markdown",
   "metadata": {},
   "source": [
    "loops in python\n"
   ]
  },
  {
   "cell_type": "markdown",
   "metadata": {},
   "source": [
    "for loop"
   ]
  },
  {
   "cell_type": "code",
   "execution_count": 6,
   "metadata": {},
   "outputs": [
    {
     "name": "stdout",
     "output_type": "stream",
     "text": [
      "rocky\n",
      "predator\n",
      "metilda\n",
      "avataar\n",
      "top gun\n"
     ]
    }
   ],
   "source": [
    "movies =[\"rocky\", \"predator\", \"metilda\", \"avataar\", \"top gun\"] #iterable\n",
    "#traversing the list\n",
    "for list in movies:\n",
    "    print(list)"
   ]
  },
  {
   "cell_type": "code",
   "execution_count": 7,
   "metadata": {},
   "outputs": [
    {
     "data": {
      "text/plain": [
       "'top gun'"
      ]
     },
     "execution_count": 7,
     "metadata": {},
     "output_type": "execute_result"
    }
   ],
   "source": [
    "list"
   ]
  },
  {
   "cell_type": "code",
   "execution_count": 16,
   "metadata": {},
   "outputs": [
    {
     "name": "stdout",
     "output_type": "stream",
     "text": [
      "Ikigai\n",
      "The silent patient\n",
      "November 9\n",
      "The canterville ghost\n"
     ]
    }
   ],
   "source": [
    "books = [\"Ikigai\", \"The silent patient\", \"November 9\", \"The canterville ghost\",]\n",
    "#travesring the list\n",
    "for book in books:\n",
    "    print(book)"
   ]
  },
  {
   "cell_type": "markdown",
   "metadata": {},
   "source": [
    "while loop"
   ]
  },
  {
   "cell_type": "code",
   "execution_count": 15,
   "metadata": {},
   "outputs": [
    {
     "name": "stdout",
     "output_type": "stream",
     "text": [
      "20 400\n",
      "19 361\n",
      "18 324\n",
      "17 289\n",
      "16 256\n",
      "15 225\n",
      "14 196\n",
      "13 169\n",
      "12 144\n",
      "11 121\n",
      "10 100\n",
      "9 81\n",
      "8 64\n",
      "7 49\n",
      "6 36\n",
      "5 25\n",
      "4 16\n",
      "3 9\n",
      "2 4\n"
     ]
    }
   ],
   "source": [
    "i = int(input(\"enter a number:\"))\n",
    "while i>1:\n",
    "    print(i, i**2)\n",
    "    i -= 1"
   ]
  },
  {
   "cell_type": "code",
   "execution_count": 7,
   "metadata": {},
   "outputs": [
    {
     "name": "stdout",
     "output_type": "stream",
     "text": [
      "enter a number divisible by 7\n"
     ]
    }
   ],
   "source": [
    "print(\"enter a number divisible by 7\")\n",
    "while int(input()) %7 != 0:\n",
    "    print(\"try again\")\n",
    "    print(\"success\")"
   ]
  },
  {
   "cell_type": "code",
   "execution_count": null,
   "metadata": {},
   "outputs": [],
   "source": []
  }
 ],
 "metadata": {
  "kernelspec": {
   "display_name": "Python 3",
   "language": "python",
   "name": "python3"
  },
  "language_info": {
   "codemirror_mode": {
    "name": "ipython",
    "version": 3
   },
   "file_extension": ".py",
   "mimetype": "text/x-python",
   "name": "python",
   "nbconvert_exporter": "python",
   "pygments_lexer": "ipython3",
   "version": "0.0.0"
  }
 },
 "nbformat": 4,
 "nbformat_minor": 2
}
